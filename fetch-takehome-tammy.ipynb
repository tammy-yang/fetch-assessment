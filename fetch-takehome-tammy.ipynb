{
 "cells": [
  {
   "cell_type": "markdown",
   "metadata": {},
   "source": [
    "Hi,   \n",
    "\n",
    "In this notebook, I will be exploring and analyzing the data provided for the Data Analyst take-home assessment from Fetch to demonstrate my ability to work with data, identify data quality issues, answer specific queries, and communicate findings to stakeholders. The analysis will be performed using Python and SQL, with visualizations to support key insights and conclusions. Throughout the exercise, I will document my assumptions and thought process clearly.   \n",
    "\n",
    "Thank you for this opportunity.\n",
    "\n"
   ]
  },
  {
   "cell_type": "markdown",
   "metadata": {},
   "source": [
    "# 1. Data Exploration and Quality Assessment\n",
    "\n",
    "In this section, I will load and inspect the three datasets: *Products*, *Transactions*, and *Users*. I will assess data quality issues using Python and visualizations to identify patterns, missing values, duplicates, outliers, invalid values, and inconsistencies within each dataset.   \n",
    "\n",
    "Initially, I considered creating a single `data_cleaning` function to handle and clean all the datasets. However, after exploring the data, I realized that each dataset presents different quality issues. As a result, I will clean each dataset individually to address its specific challenges.   \n",
    "\n",
    "To preserve the integrity of the original data during the exploratory data analysis (EDA) process, I will create new dataframes for further analysis and visualization."
   ]
  },
  {
   "cell_type": "code",
   "execution_count": 1,
   "metadata": {},
   "outputs": [],
   "source": [
    "# import libraries\n",
    "import pandas as pd\n",
    "import numpy as np\n",
    "import matplotlib.pyplot as plt\n",
    "import seaborn as sns\n",
    "import warnings\n",
    "warnings.filterwarnings('ignore')"
   ]
  },
  {
   "cell_type": "code",
   "execution_count": 2,
   "metadata": {},
   "outputs": [],
   "source": [
    "# load the data (the csv files should be in the same directory as this script)\n",
    "products = pd.read_csv('PRODUCTS_TAKEHOME.csv')\n",
    "users = pd.read_csv('USER_TAKEHOME.csv')\n",
    "transactions = pd.read_csv('TRANSACTION_TAKEHOME.csv')"
   ]
  },
  {
   "cell_type": "markdown",
   "metadata": {},
   "source": [
    "## 1-1 The Products Data"
   ]
  },
  {
   "cell_type": "code",
   "execution_count": 3,
   "metadata": {},
   "outputs": [
    {
     "data": {
      "text/html": [
       "<div>\n",
       "<style scoped>\n",
       "    .dataframe tbody tr th:only-of-type {\n",
       "        vertical-align: middle;\n",
       "    }\n",
       "\n",
       "    .dataframe tbody tr th {\n",
       "        vertical-align: top;\n",
       "    }\n",
       "\n",
       "    .dataframe thead th {\n",
       "        text-align: right;\n",
       "    }\n",
       "</style>\n",
       "<table border=\"1\" class=\"dataframe\">\n",
       "  <thead>\n",
       "    <tr style=\"text-align: right;\">\n",
       "      <th></th>\n",
       "      <th>CATEGORY_1</th>\n",
       "      <th>CATEGORY_2</th>\n",
       "      <th>CATEGORY_3</th>\n",
       "      <th>CATEGORY_4</th>\n",
       "      <th>MANUFACTURER</th>\n",
       "      <th>BRAND</th>\n",
       "      <th>BARCODE</th>\n",
       "    </tr>\n",
       "  </thead>\n",
       "  <tbody>\n",
       "    <tr>\n",
       "      <th>0</th>\n",
       "      <td>Health &amp; Wellness</td>\n",
       "      <td>Sexual Health</td>\n",
       "      <td>Conductivity Gels &amp; Lotions</td>\n",
       "      <td>NaN</td>\n",
       "      <td>NaN</td>\n",
       "      <td>NaN</td>\n",
       "      <td>7.964944e+11</td>\n",
       "    </tr>\n",
       "    <tr>\n",
       "      <th>1</th>\n",
       "      <td>Snacks</td>\n",
       "      <td>Puffed Snacks</td>\n",
       "      <td>Cheese Curls &amp; Puffs</td>\n",
       "      <td>NaN</td>\n",
       "      <td>NaN</td>\n",
       "      <td>NaN</td>\n",
       "      <td>2.327801e+10</td>\n",
       "    </tr>\n",
       "    <tr>\n",
       "      <th>2</th>\n",
       "      <td>Health &amp; Wellness</td>\n",
       "      <td>Hair Care</td>\n",
       "      <td>Hair Care Accessories</td>\n",
       "      <td>NaN</td>\n",
       "      <td>PLACEHOLDER MANUFACTURER</td>\n",
       "      <td>ELECSOP</td>\n",
       "      <td>4.618178e+11</td>\n",
       "    </tr>\n",
       "    <tr>\n",
       "      <th>3</th>\n",
       "      <td>Health &amp; Wellness</td>\n",
       "      <td>Oral Care</td>\n",
       "      <td>Toothpaste</td>\n",
       "      <td>NaN</td>\n",
       "      <td>COLGATE-PALMOLIVE</td>\n",
       "      <td>COLGATE</td>\n",
       "      <td>3.500047e+10</td>\n",
       "    </tr>\n",
       "    <tr>\n",
       "      <th>4</th>\n",
       "      <td>Health &amp; Wellness</td>\n",
       "      <td>Medicines &amp; Treatments</td>\n",
       "      <td>Essential Oils</td>\n",
       "      <td>NaN</td>\n",
       "      <td>MAPLE HOLISTICS AND HONEYDEW PRODUCTS INTERCHA...</td>\n",
       "      <td>MAPLE HOLISTICS</td>\n",
       "      <td>8.068109e+11</td>\n",
       "    </tr>\n",
       "  </tbody>\n",
       "</table>\n",
       "</div>"
      ],
      "text/plain": [
       "          CATEGORY_1              CATEGORY_2                   CATEGORY_3  \\\n",
       "0  Health & Wellness           Sexual Health  Conductivity Gels & Lotions   \n",
       "1             Snacks           Puffed Snacks         Cheese Curls & Puffs   \n",
       "2  Health & Wellness               Hair Care        Hair Care Accessories   \n",
       "3  Health & Wellness               Oral Care                   Toothpaste   \n",
       "4  Health & Wellness  Medicines & Treatments               Essential Oils   \n",
       "\n",
       "  CATEGORY_4                                       MANUFACTURER  \\\n",
       "0        NaN                                                NaN   \n",
       "1        NaN                                                NaN   \n",
       "2        NaN                           PLACEHOLDER MANUFACTURER   \n",
       "3        NaN                                  COLGATE-PALMOLIVE   \n",
       "4        NaN  MAPLE HOLISTICS AND HONEYDEW PRODUCTS INTERCHA...   \n",
       "\n",
       "             BRAND       BARCODE  \n",
       "0              NaN  7.964944e+11  \n",
       "1              NaN  2.327801e+10  \n",
       "2          ELECSOP  4.618178e+11  \n",
       "3          COLGATE  3.500047e+10  \n",
       "4  MAPLE HOLISTICS  8.068109e+11  "
      ]
     },
     "execution_count": 3,
     "metadata": {},
     "output_type": "execute_result"
    }
   ],
   "source": [
    "# Display the first 5 rows of the data to understand the structure\n",
    "products.head(5)"
   ]
  },
  {
   "cell_type": "code",
   "execution_count": 4,
   "metadata": {},
   "outputs": [
    {
     "name": "stdout",
     "output_type": "stream",
     "text": [
      "Information about the products data:\n",
      "<class 'pandas.core.frame.DataFrame'>\n",
      "RangeIndex: 845552 entries, 0 to 845551\n",
      "Data columns (total 7 columns):\n",
      " #   Column        Non-Null Count   Dtype  \n",
      "---  ------        --------------   -----  \n",
      " 0   CATEGORY_1    845441 non-null  object \n",
      " 1   CATEGORY_2    844128 non-null  object \n",
      " 2   CATEGORY_3    784986 non-null  object \n",
      " 3   CATEGORY_4    67459 non-null   object \n",
      " 4   MANUFACTURER  619078 non-null  object \n",
      " 5   BRAND         619080 non-null  object \n",
      " 6   BARCODE       841527 non-null  float64\n",
      "dtypes: float64(1), object(6)\n",
      "memory usage: 45.2+ MB\n",
      "None\n",
      " \n",
      "Number of missing values in the products data:\n",
      "CATEGORY_1         111\n",
      "CATEGORY_2        1424\n",
      "CATEGORY_3       60566\n",
      "CATEGORY_4      778093\n",
      "MANUFACTURER    226474\n",
      "BRAND           226472\n",
      "BARCODE           4025\n",
      "dtype: int64\n",
      " \n",
      "Number of unique values in each column:\n",
      "CATEGORY_1          27\n",
      "CATEGORY_2         121\n",
      "CATEGORY_3         344\n",
      "CATEGORY_4         127\n",
      "MANUFACTURER      4354\n",
      "BRAND             8122\n",
      "BARCODE         841342\n",
      "dtype: int64\n",
      " \n",
      "Number of duplicates in the products data:\n",
      "215\n"
     ]
    }
   ],
   "source": [
    "# understand the data types and missing values to prepare for data cleaning\n",
    "print('Information about the products data:')\n",
    "print(products.info())\n",
    "print(' ')\n",
    "print('Number of missing values in the products data:')\n",
    "print(products.isnull().sum())\n",
    "\n",
    "# number of unique values in each column\n",
    "print(' ')\n",
    "print('Number of unique values in each column:')\n",
    "print(products.nunique())\n",
    "\n",
    "# check for duplicates\n",
    "print(' ')\n",
    "print('Number of duplicates in the products data:')\n",
    "print(products.duplicated().sum())"
   ]
  },
  {
   "cell_type": "markdown",
   "metadata": {},
   "source": [
    "The *Products* data contains metadata for each product, including its category, manufacturer, brand, and barcode, which allows for further analysis in these areas. The `CATEGORY_1` to `CATEGORY_4` columns represent nested categories, organizing products into a hierarchical structure, with `CATEGORY_4` being the most specific subcategory. If a higher-level category does not have that many subcategories, the corresponding values will be left as NaN (missing).   \n",
    "\n",
    "The `BARCODE` column is assumed to be the primary key that uniquely identifies each product. However, with 4,025 missing barcodes, this could pose challenges for accurate product analysis. There are also numerous null values across other columns, especially in the more specific categories (`CATEGORY_4`), which is expected since not all products have detailed subcategorization.   \n",
    "\n",
    "In addition, the `BARCODE` column is incorrectly formatted in scientific notation after reading the csv file using Pandas library, requiring further data cleaning. While no obvious case sensitivity issues were observed during exploration, I will ensure that any hidden case sensitivity problems are addressed during data cleaning.   \n",
    "\n",
    "Given that the barcode is assumed to be a unique identifier, rows with missing `BARCODE` will be removed. Although missing values in other columns (e.g. `MANUFACTURER` and `BRAND`) could affect the analysis, their impact is manageable and does not require the same treatment."
   ]
  },
  {
   "cell_type": "code",
   "execution_count": 5,
   "metadata": {},
   "outputs": [
    {
     "data": {
      "text/html": [
       "<div>\n",
       "<style scoped>\n",
       "    .dataframe tbody tr th:only-of-type {\n",
       "        vertical-align: middle;\n",
       "    }\n",
       "\n",
       "    .dataframe tbody tr th {\n",
       "        vertical-align: top;\n",
       "    }\n",
       "\n",
       "    .dataframe thead th {\n",
       "        text-align: right;\n",
       "    }\n",
       "</style>\n",
       "<table border=\"1\" class=\"dataframe\">\n",
       "  <thead>\n",
       "    <tr style=\"text-align: right;\">\n",
       "      <th></th>\n",
       "      <th></th>\n",
       "      <th></th>\n",
       "      <th></th>\n",
       "      <th>MANUFACTURER</th>\n",
       "      <th>BRAND</th>\n",
       "      <th>BARCODE</th>\n",
       "    </tr>\n",
       "    <tr>\n",
       "      <th>CATEGORY_1</th>\n",
       "      <th>CATEGORY_2</th>\n",
       "      <th>CATEGORY_3</th>\n",
       "      <th>CATEGORY_4</th>\n",
       "      <th></th>\n",
       "      <th></th>\n",
       "      <th></th>\n",
       "    </tr>\n",
       "  </thead>\n",
       "  <tbody>\n",
       "    <tr>\n",
       "      <th rowspan=\"5\" valign=\"top\">Alcohol</th>\n",
       "      <th rowspan=\"3\" valign=\"top\">Beer</th>\n",
       "      <th>Ale</th>\n",
       "      <th>Stout Ale</th>\n",
       "      <td>4</td>\n",
       "      <td>4</td>\n",
       "      <td>4</td>\n",
       "    </tr>\n",
       "    <tr>\n",
       "      <th rowspan=\"2\" valign=\"top\">Lager</th>\n",
       "      <th>American Lager</th>\n",
       "      <td>116</td>\n",
       "      <td>116</td>\n",
       "      <td>114</td>\n",
       "    </tr>\n",
       "    <tr>\n",
       "      <th>Imported Lager</th>\n",
       "      <td>5</td>\n",
       "      <td>5</td>\n",
       "      <td>5</td>\n",
       "    </tr>\n",
       "    <tr>\n",
       "      <th rowspan=\"2\" valign=\"top\">Wine</th>\n",
       "      <th rowspan=\"2\" valign=\"top\">Red Wine</th>\n",
       "      <th>Cabernet Sauvignon</th>\n",
       "      <td>14</td>\n",
       "      <td>14</td>\n",
       "      <td>13</td>\n",
       "    </tr>\n",
       "    <tr>\n",
       "      <th>Malbec</th>\n",
       "      <td>3</td>\n",
       "      <td>3</td>\n",
       "      <td>2</td>\n",
       "    </tr>\n",
       "    <tr>\n",
       "      <th>...</th>\n",
       "      <th>...</th>\n",
       "      <th>...</th>\n",
       "      <th>...</th>\n",
       "      <td>...</td>\n",
       "      <td>...</td>\n",
       "      <td>...</td>\n",
       "    </tr>\n",
       "    <tr>\n",
       "      <th>Restaurant</th>\n",
       "      <th>Beverages</th>\n",
       "      <th>Soda</th>\n",
       "      <th>Regular Soda</th>\n",
       "      <td>1</td>\n",
       "      <td>1</td>\n",
       "      <td>0</td>\n",
       "    </tr>\n",
       "    <tr>\n",
       "      <th rowspan=\"3\" valign=\"top\">Snacks</th>\n",
       "      <th rowspan=\"3\" valign=\"top\">Puffed Snacks</th>\n",
       "      <th rowspan=\"3\" valign=\"top\">Popcorn</th>\n",
       "      <th>Already Popped Popcorn</th>\n",
       "      <td>4234</td>\n",
       "      <td>4234</td>\n",
       "      <td>6956</td>\n",
       "    </tr>\n",
       "    <tr>\n",
       "      <th>Microwave Popcorn</th>\n",
       "      <td>1929</td>\n",
       "      <td>1929</td>\n",
       "      <td>2308</td>\n",
       "    </tr>\n",
       "    <tr>\n",
       "      <th>Popcorn Kernels &amp; Popcorn Seasonings</th>\n",
       "      <td>361</td>\n",
       "      <td>361</td>\n",
       "      <td>712</td>\n",
       "    </tr>\n",
       "    <tr>\n",
       "      <th>Sporting Goods</th>\n",
       "      <th>Exercise &amp; Fitness</th>\n",
       "      <th>Yoga &amp; Pilates</th>\n",
       "      <th>Yoga &amp; Pilates Mats</th>\n",
       "      <td>13</td>\n",
       "      <td>13</td>\n",
       "      <td>13</td>\n",
       "    </tr>\n",
       "  </tbody>\n",
       "</table>\n",
       "<p>127 rows × 3 columns</p>\n",
       "</div>"
      ],
      "text/plain": [
       "                                                                                       MANUFACTURER  \\\n",
       "CATEGORY_1     CATEGORY_2         CATEGORY_3     CATEGORY_4                                           \n",
       "Alcohol        Beer               Ale            Stout Ale                                        4   \n",
       "                                  Lager          American Lager                                 116   \n",
       "                                                 Imported Lager                                   5   \n",
       "               Wine               Red Wine       Cabernet Sauvignon                              14   \n",
       "                                                 Malbec                                           3   \n",
       "...                                                                                             ...   \n",
       "Restaurant     Beverages          Soda           Regular Soda                                     1   \n",
       "Snacks         Puffed Snacks      Popcorn        Already Popped Popcorn                        4234   \n",
       "                                                 Microwave Popcorn                             1929   \n",
       "                                                 Popcorn Kernels & Popcorn Seasonings           361   \n",
       "Sporting Goods Exercise & Fitness Yoga & Pilates Yoga & Pilates Mats                             13   \n",
       "\n",
       "                                                                                       BRAND  \\\n",
       "CATEGORY_1     CATEGORY_2         CATEGORY_3     CATEGORY_4                                    \n",
       "Alcohol        Beer               Ale            Stout Ale                                 4   \n",
       "                                  Lager          American Lager                          116   \n",
       "                                                 Imported Lager                            5   \n",
       "               Wine               Red Wine       Cabernet Sauvignon                       14   \n",
       "                                                 Malbec                                    3   \n",
       "...                                                                                      ...   \n",
       "Restaurant     Beverages          Soda           Regular Soda                              1   \n",
       "Snacks         Puffed Snacks      Popcorn        Already Popped Popcorn                 4234   \n",
       "                                                 Microwave Popcorn                      1929   \n",
       "                                                 Popcorn Kernels & Popcorn Seasonings    361   \n",
       "Sporting Goods Exercise & Fitness Yoga & Pilates Yoga & Pilates Mats                      13   \n",
       "\n",
       "                                                                                       BARCODE  \n",
       "CATEGORY_1     CATEGORY_2         CATEGORY_3     CATEGORY_4                                     \n",
       "Alcohol        Beer               Ale            Stout Ale                                   4  \n",
       "                                  Lager          American Lager                            114  \n",
       "                                                 Imported Lager                              5  \n",
       "               Wine               Red Wine       Cabernet Sauvignon                         13  \n",
       "                                                 Malbec                                      2  \n",
       "...                                                                                        ...  \n",
       "Restaurant     Beverages          Soda           Regular Soda                                0  \n",
       "Snacks         Puffed Snacks      Popcorn        Already Popped Popcorn                   6956  \n",
       "                                                 Microwave Popcorn                        2308  \n",
       "                                                 Popcorn Kernels & Popcorn Seasonings      712  \n",
       "Sporting Goods Exercise & Fitness Yoga & Pilates Yoga & Pilates Mats                        13  \n",
       "\n",
       "[127 rows x 3 columns]"
      ]
     },
     "execution_count": 5,
     "metadata": {},
     "output_type": "execute_result"
    }
   ],
   "source": [
    "# list all nested categories\n",
    "products.groupby(['CATEGORY_1', 'CATEGORY_2', 'CATEGORY_3', 'CATEGORY_4']).count()"
   ]
  },
  {
   "cell_type": "markdown",
   "metadata": {},
   "source": [
    "The table above displays the hierarchical structure of all categories from `CATEGORY_1` to `CATEGORY_4`, along with the counts for manufacturer, brand, and barcode at each level. This helps visualize how products are organized into nested categories and how values are distributed across the hierarchy. If inconsistencies occur in the counts for `MANUFACTURER`, `BRAND`, and `BARCODE`, it indicates the presence of null values in those columns at that specific category level.   \n",
    "\n",
    "The following code provides a preliminary overview of the top 5 categories, manufacturers, and brands based on their product counts."
   ]
  },
  {
   "cell_type": "code",
   "execution_count": 6,
   "metadata": {},
   "outputs": [
    {
     "name": "stdout",
     "output_type": "stream",
     "text": [
      "Top 5 categories: \n",
      "Health & Wellness        512695\n",
      "Snacks                   324817\n",
      "Beverages                  3990\n",
      "Pantry                      871\n",
      "Apparel & Accessories       846\n",
      "Name: CATEGORY_1, dtype: int64\n",
      " \n",
      "Top 5 manufacturers: \n",
      "PLACEHOLDER MANUFACTURER    86902\n",
      "PROCTER & GAMBLE            21065\n",
      "REM MANUFACTURER            20813\n",
      "UNILEVER                    16864\n",
      "L'OREAL                     16699\n",
      "Name: MANUFACTURER, dtype: int64\n",
      " \n",
      "Top 5 brands: \n",
      "REM BRAND          20813\n",
      "BRAND NOT KNOWN    17025\n",
      "PRIVATE LABEL      13467\n",
      "CVS                 6400\n",
      "SEGO                4831\n",
      "Name: BRAND, dtype: int64\n"
     ]
    }
   ],
   "source": [
    "print('Top 5 categories: ')\n",
    "print(products['CATEGORY_1'].value_counts().head(5))\n",
    "print(' ')\n",
    "print('Top 5 manufacturers: ')\n",
    "print(products['MANUFACTURER'].value_counts().head(5))\n",
    "print(' ')\n",
    "print('Top 5 brands: ')\n",
    "print(products['BRAND'].value_counts().head(5))"
   ]
  },
  {
   "cell_type": "markdown",
   "metadata": {},
   "source": [
    "### Data Cleaning"
   ]
  },
  {
   "cell_type": "code",
   "execution_count": 7,
   "metadata": {},
   "outputs": [],
   "source": [
    "# remove the rows with missing barcode based on the assumption that the barcode is unique identifier\n",
    "products.dropna(subset=['BARCODE'], inplace=True)\n",
    "\n",
    "# remove duplicates\n",
    "products.drop_duplicates(inplace=True)\n",
    "\n",
    "# remove scientific notation, and since the barcode is a unique identifier, convert it to string instead of int\n",
    "products['BARCODE'] = products['BARCODE'].astype(int).astype(str)\n",
    "\n",
    "# ensure there are no case sensitive issues\n",
    "columns = ['CATEGORY_1', 'CATEGORY_2', 'CATEGORY_3', 'CATEGORY_4', 'MANUFACTURER', 'BRAND']\n",
    "for column in columns:\n",
    "    products[column] = products[column].str.title()\n",
    "\n",
    "# fill missing values in the MANUFACTURER and BRAND columns with 'Unknown'\n",
    "# although those values are missing, they are not foreign keys, so the missing data is manageable and does not affect the integrity of the joins between the tables\n",
    "products['MANUFACTURER'].fillna('Unknown', inplace=True)\n",
    "products['BRAND'].fillna('Brand Not Known', inplace=True)"
   ]
  },
  {
   "cell_type": "code",
   "execution_count": 8,
   "metadata": {},
   "outputs": [
    {
     "data": {
      "text/html": [
       "<div>\n",
       "<style scoped>\n",
       "    .dataframe tbody tr th:only-of-type {\n",
       "        vertical-align: middle;\n",
       "    }\n",
       "\n",
       "    .dataframe tbody tr th {\n",
       "        vertical-align: top;\n",
       "    }\n",
       "\n",
       "    .dataframe thead th {\n",
       "        text-align: right;\n",
       "    }\n",
       "</style>\n",
       "<table border=\"1\" class=\"dataframe\">\n",
       "  <thead>\n",
       "    <tr style=\"text-align: right;\">\n",
       "      <th></th>\n",
       "      <th>CATEGORY_1</th>\n",
       "      <th>CATEGORY_2</th>\n",
       "      <th>CATEGORY_3</th>\n",
       "      <th>CATEGORY_4</th>\n",
       "      <th>MANUFACTURER</th>\n",
       "      <th>BRAND</th>\n",
       "      <th>BARCODE</th>\n",
       "    </tr>\n",
       "  </thead>\n",
       "  <tbody>\n",
       "    <tr>\n",
       "      <th>0</th>\n",
       "      <td>Health &amp; Wellness</td>\n",
       "      <td>Sexual Health</td>\n",
       "      <td>Conductivity Gels &amp; Lotions</td>\n",
       "      <td>NaN</td>\n",
       "      <td>Unknown</td>\n",
       "      <td>Brand Not Known</td>\n",
       "      <td>796494407820</td>\n",
       "    </tr>\n",
       "    <tr>\n",
       "      <th>1</th>\n",
       "      <td>Snacks</td>\n",
       "      <td>Puffed Snacks</td>\n",
       "      <td>Cheese Curls &amp; Puffs</td>\n",
       "      <td>NaN</td>\n",
       "      <td>Unknown</td>\n",
       "      <td>Brand Not Known</td>\n",
       "      <td>23278011028</td>\n",
       "    </tr>\n",
       "    <tr>\n",
       "      <th>2</th>\n",
       "      <td>Health &amp; Wellness</td>\n",
       "      <td>Hair Care</td>\n",
       "      <td>Hair Care Accessories</td>\n",
       "      <td>NaN</td>\n",
       "      <td>Placeholder Manufacturer</td>\n",
       "      <td>Elecsop</td>\n",
       "      <td>461817824225</td>\n",
       "    </tr>\n",
       "  </tbody>\n",
       "</table>\n",
       "</div>"
      ],
      "text/plain": [
       "          CATEGORY_1     CATEGORY_2                   CATEGORY_3 CATEGORY_4  \\\n",
       "0  Health & Wellness  Sexual Health  Conductivity Gels & Lotions        NaN   \n",
       "1             Snacks  Puffed Snacks         Cheese Curls & Puffs        NaN   \n",
       "2  Health & Wellness      Hair Care        Hair Care Accessories        NaN   \n",
       "\n",
       "               MANUFACTURER            BRAND       BARCODE  \n",
       "0                   Unknown  Brand Not Known  796494407820  \n",
       "1                   Unknown  Brand Not Known   23278011028  \n",
       "2  Placeholder Manufacturer          Elecsop  461817824225  "
      ]
     },
     "execution_count": 8,
     "metadata": {},
     "output_type": "execute_result"
    }
   ],
   "source": [
    "# check for the cleaned results\n",
    "products.head(3)"
   ]
  },
  {
   "cell_type": "markdown",
   "metadata": {},
   "source": [
    "### Visualization"
   ]
  },
  {
   "cell_type": "code",
   "execution_count": 9,
   "metadata": {},
   "outputs": [
    {
     "data": {
      "image/png": "[encoded data removed]",
      "text/plain": [
       "<Figure size 1200x600 with 1 Axes>"
      ]
     },
     "metadata": {},
     "output_type": "display_data"
    }
   ],
   "source": [
    "# category distribution\n",
    "plt.figure(figsize=(12, 6))\n",
    "sns.countplot(y='CATEGORY_1', data=products, order=products['CATEGORY_1'].value_counts().index, color='skyblue')\n",
    "plt.title('Distribution of Products by CATEGORY_1')\n",
    "plt.xlabel('Number of Products')\n",
    "plt.grid(axis='x')\n",
    "plt.show()"
   ]
  },
  {
   "cell_type": "markdown",
   "metadata": {},
   "source": [
    "This graph shows the dominance of Health & Wellness category and the strong presence of Snacks across *products* data, suggesting they are major focus areas or popular segments.   \n",
    "This distribution gives insights into the popular categories and potentially underserved areas, and could be useful for marketing focus or identifying expansion opportunities."
   ]
  },
  {
   "cell_type": "code",
   "execution_count": 10,
   "metadata": {},
   "outputs": [
    {
     "data": {
      "image/png": "[encoded data removed]",
      "text/plain": [
       "<Figure size 2500x800 with 2 Axes>"
      ]
     },
     "metadata": {},
     "output_type": "display_data"
    }
   ],
   "source": [
    "# a figure with two subplots: top 10 manufacturers and brands\n",
    "plt.figure(figsize=(25, 8))\n",
    "\n",
    "# the top 10 manufacturers\n",
    "plt.subplot(1, 2, 1)  # 1 row, 2 columns, 1st subplot\n",
    "top_manufacturers = products['MANUFACTURER'].value_counts().sort_values(ascending=False)[1:11]  # Exclude 'Unknown'\n",
    "sns.barplot(y=top_manufacturers.index, x=top_manufacturers.values, color='blue')\n",
    "plt.title('Top 10 Manufacturers by Product Count')\n",
    "plt.xlabel('Count of Products')\n",
    "plt.ylabel('Manufacturer')\n",
    "\n",
    "# the top 10 brands\n",
    "plt.subplot(1, 2, 2)  # 1 row, 2 columns, 2nd subplot\n",
    "top_brands = products['BRAND'].value_counts().sort_values(ascending=False)[1:11]  # Exclude 'Brand Not Known'\n",
    "sns.barplot(y=top_brands.index, x=top_brands.values, color='navy')\n",
    "plt.title('Top 10 Brands by Product Count')\n",
    "plt.xlabel('Count of Products')\n",
    "plt.ylabel('Brand')\n",
    "\n",
    "plt.show()\n"
   ]
  },
  {
   "cell_type": "markdown",
   "metadata": {},
   "source": [
    "These two graphs provide insights into the top manufacturers and brands based on product count. Notably, Rem stands out as a highly advantageous company as it occupies both the top brand and top manufacturer positions. There's a notable drop-off in product count between the top 1-2 entries and the rest in both graphs, suggesting a long-tail distribution of products across manufacturers and brands. This information could be beneficial for Fetch's business relations and marketing strategies.\n",
    "\n",
    "However, some intriguing names, such as 'Private Label', 'Brand Needs Review', and 'Placeholder Manufacturer', raise questions about their classification. It is unclear whether these are actual brand names (as some companies do like to choose quirky names!) or internal labels that require further data cleaning. For the purpose of this analysis, I will assume they represent valid values. A clearer understanding of these labels would enhance the accuracy of the analysis."
   ]
  },
  {
   "cell_type": "markdown",
   "metadata": {},
   "source": [
    "## 1-2 The Users Data"
   ]
  },
  {
   "cell_type": "code",
   "execution_count": 11,
   "metadata": {},
   "outputs": [
    {
     "data": {
      "text/html": [
       "<div>\n",
       "<style scoped>\n",
       "    .dataframe tbody tr th:only-of-type {\n",
       "        vertical-align: middle;\n",
       "    }\n",
       "\n",
       "    .dataframe tbody tr th {\n",
       "        vertical-align: top;\n",
       "    }\n",
       "\n",
       "    .dataframe thead th {\n",
       "        text-align: right;\n",
       "    }\n",
       "</style>\n",
       "<table border=\"1\" class=\"dataframe\">\n",
       "  <thead>\n",
       "    <tr style=\"text-align: right;\">\n",
       "      <th></th>\n",
       "      <th>ID</th>\n",
       "      <th>CREATED_DATE</th>\n",
       "      <th>BIRTH_DATE</th>\n",
       "      <th>STATE</th>\n",
       "      <th>LANGUAGE</th>\n",
       "      <th>GENDER</th>\n",
       "    </tr>\n",
       "  </thead>\n",
       "  <tbody>\n",
       "    <tr>\n",
       "      <th>0</th>\n",
       "      <td>5ef3b4f17053ab141787697d</td>\n",
       "      <td>2020-06-24 20:17:54.000 Z</td>\n",
       "      <td>2000-08-11 00:00:00.000 Z</td>\n",
       "      <td>CA</td>\n",
       "      <td>es-419</td>\n",
       "      <td>female</td>\n",
       "    </tr>\n",
       "    <tr>\n",
       "      <th>1</th>\n",
       "      <td>5ff220d383fcfc12622b96bc</td>\n",
       "      <td>2021-01-03 19:53:55.000 Z</td>\n",
       "      <td>2001-09-24 04:00:00.000 Z</td>\n",
       "      <td>PA</td>\n",
       "      <td>en</td>\n",
       "      <td>female</td>\n",
       "    </tr>\n",
       "    <tr>\n",
       "      <th>2</th>\n",
       "      <td>6477950aa55bb77a0e27ee10</td>\n",
       "      <td>2023-05-31 18:42:18.000 Z</td>\n",
       "      <td>1994-10-28 00:00:00.000 Z</td>\n",
       "      <td>FL</td>\n",
       "      <td>es-419</td>\n",
       "      <td>female</td>\n",
       "    </tr>\n",
       "    <tr>\n",
       "      <th>3</th>\n",
       "      <td>658a306e99b40f103b63ccf8</td>\n",
       "      <td>2023-12-26 01:46:22.000 Z</td>\n",
       "      <td>NaN</td>\n",
       "      <td>NC</td>\n",
       "      <td>en</td>\n",
       "      <td>NaN</td>\n",
       "    </tr>\n",
       "    <tr>\n",
       "      <th>4</th>\n",
       "      <td>653cf5d6a225ea102b7ecdc2</td>\n",
       "      <td>2023-10-28 11:51:50.000 Z</td>\n",
       "      <td>1972-03-19 00:00:00.000 Z</td>\n",
       "      <td>PA</td>\n",
       "      <td>en</td>\n",
       "      <td>female</td>\n",
       "    </tr>\n",
       "  </tbody>\n",
       "</table>\n",
       "</div>"
      ],
      "text/plain": [
       "                         ID               CREATED_DATE  \\\n",
       "0  5ef3b4f17053ab141787697d  2020-06-24 20:17:54.000 Z   \n",
       "1  5ff220d383fcfc12622b96bc  2021-01-03 19:53:55.000 Z   \n",
       "2  6477950aa55bb77a0e27ee10  2023-05-31 18:42:18.000 Z   \n",
       "3  658a306e99b40f103b63ccf8  2023-12-26 01:46:22.000 Z   \n",
       "4  653cf5d6a225ea102b7ecdc2  2023-10-28 11:51:50.000 Z   \n",
       "\n",
       "                  BIRTH_DATE STATE LANGUAGE  GENDER  \n",
       "0  2000-08-11 00:00:00.000 Z    CA   es-419  female  \n",
       "1  2001-09-24 04:00:00.000 Z    PA       en  female  \n",
       "2  1994-10-28 00:00:00.000 Z    FL   es-419  female  \n",
       "3                        NaN    NC       en     NaN  \n",
       "4  1972-03-19 00:00:00.000 Z    PA       en  female  "
      ]
     },
     "execution_count": 11,
     "metadata": {},
     "output_type": "execute_result"
    }
   ],
   "source": [
    "# Display the first 5 rows of the data to understand the structure\n",
    "users.head(5)"
   ]
  },
  {
   "cell_type": "code",
   "execution_count": 12,
   "metadata": {},
   "outputs": [
    {
     "name": "stdout",
     "output_type": "stream",
     "text": [
      "Information about the users data:\n",
      "<class 'pandas.core.frame.DataFrame'>\n",
      "RangeIndex: 100000 entries, 0 to 99999\n",
      "Data columns (total 6 columns):\n",
      " #   Column        Non-Null Count   Dtype \n",
      "---  ------        --------------   ----- \n",
      " 0   ID            100000 non-null  object\n",
      " 1   CREATED_DATE  100000 non-null  object\n",
      " 2   BIRTH_DATE    96325 non-null   object\n",
      " 3   STATE         95188 non-null   object\n",
      " 4   LANGUAGE      69492 non-null   object\n",
      " 5   GENDER        94108 non-null   object\n",
      "dtypes: object(6)\n",
      "memory usage: 4.6+ MB\n",
      "None\n",
      " \n",
      "Number of missing values in the users data:\n",
      "ID                  0\n",
      "CREATED_DATE        0\n",
      "BIRTH_DATE       3675\n",
      "STATE            4812\n",
      "LANGUAGE        30508\n",
      "GENDER           5892\n",
      "dtype: int64\n",
      " \n",
      "Number of duplicates in the users data:\n",
      "0\n"
     ]
    }
   ],
   "source": [
    "# understand the data types and missing values to prepare for data cleaning\n",
    "print('Information about the users data:')\n",
    "print(users.info())\n",
    "print(' ')\n",
    "print('Number of missing values in the users data:')\n",
    "print(users.isnull().sum())\n",
    "print(' ')\n",
    "print('Number of duplicates in the users data:')\n",
    "print(users.duplicated().sum())"
   ]
  },
  {
   "cell_type": "markdown",
   "metadata": {},
   "source": [
    "The *Users* data contains 100,000 U.S. user records, with the `ID` column serving as a primary key, which has no missing and duplicated values. The dataset includes key user-specific information, such as account creation dates, birth dates, state abbreviations, preferred language, and gender. This information allows for demographic analysis and segmentation based on factors like location, language preference, and age.   \n",
    "\n",
    "However, there are significant missing values in the `BIRTH_DATE`, `STATE`, and `LANGUAGE` columns, which could affect the accuracy of demographic insights and need to be addressed. Additionally, the date format in the `BIRTH_DATE` and `CREATED_DATE` columns includes unnecessary details beyond the year, month, and day. I will clean these columns to extract only the relevant information for accurate analysis.   \n",
    "\n",
    "While the `CREATED_DATE` column has no missing values and requires minimal cleaning, the `BIRTH_DATE` field presents a challenge due to missing data. In this analysis, I have chosen not to impute missing `BIRTH_DATE` values with averages or default placeholders. Imputation could distort age-related insights, particularly in scenarios where demographic segmentation relies on accurate age data. By leaving the `BIRTH_DATE` column as is, I preserve the integrity of the dataset, ensuring that any age-based analysis is only conducted on users with known birth dates. When performing age-related analysis, I will drop rows where `BIRTH_DATE` is missing to ensure that the analysis is both accurate and reflective of the available data. This approach avoids introducing potential bias or misleading results caused by assumptions or imputation.    \n",
    "\n",
    "There is also inconsistency in the `LANGUAGE` column: \"en\" uses the shortest ISO 639 code for English, whereas \"es-419\" (Spanish for the Latin America and Caribbean region) uses a UN M.49 region code. To ensure consistency, it would be preferable to standardize all language codes, with \"es\" being the correct ISO 639 code for Spanish. In addition, in the `GENDER` column, there is a case sensitivity issue (e.g., '\"prefer\" vs. \"Prefer\"). Standardizing these values and replacing null entries with \"unknown\" will help improve data quality."
   ]
  },
  {
   "cell_type": "markdown",
   "metadata": {},
   "source": [
    "### Data Cleaning"
   ]
  },
  {
   "cell_type": "code",
   "execution_count": 13,
   "metadata": {},
   "outputs": [
    {
     "name": "stdout",
     "output_type": "stream",
     "text": [
      "['es-419' 'en' nan]\n",
      "['female' nan 'male' 'non_binary' 'transgender' 'prefer_not_to_say'\n",
      " 'not_listed' 'Non-Binary' 'unknown' 'not_specified'\n",
      " \"My gender isn't listed\" 'Prefer not to say']\n"
     ]
    }
   ],
   "source": [
    "# understand the values contained in the columns to prepare for data cleaning\n",
    "print(users['LANGUAGE'].unique())\n",
    "print(users['GENDER'].unique())"
   ]
  },
  {
   "cell_type": "code",
   "execution_count": 14,
   "metadata": {},
   "outputs": [],
   "source": [
    "# convert to datetime format\n",
    "users['CREATED_DATE'] = pd.to_datetime(users['CREATED_DATE'], format='%Y-%m-%d').dt.date\n",
    "users['BIRTH_DATE'] = pd.to_datetime(users['BIRTH_DATE'], format='%Y-%m-%d').dt.date\n",
    "\n",
    "# unify the language code and replace Nan with 'unknown'\n",
    "users['LANGUAGE'] = users['LANGUAGE'].replace('es-419', 'es')\n",
    "users['LANGUAGE'].fillna('unknown', inplace=True)\n",
    "\n",
    "# gender column: unify 'prefer_not_to_say' and 'Prefer not to say', 'non_binary' and 'Non-Binary', 'not_listed' and 'My gender isn't listed', and replace Nan with 'unknown'\n",
    "gender_dict = {'Prefer not to say': 'prefer_not_to_say', 'Non-Binary': 'non_binary', \"My gender isn't listed\": 'not_listed', np.nan: 'unknown'}\n",
    "# replace the values following the dictionary\n",
    "users['GENDER'] = users['GENDER'].replace(gender_dict)\n",
    "\n",
    "# fill missing values in the STATE column with 'Unknown'\n",
    "users['STATE'].fillna('Unknown', inplace=True)"
   ]
  },
  {
   "cell_type": "code",
   "execution_count": 15,
   "metadata": {},
   "outputs": [
    {
     "data": {
      "text/html": [
       "<div>\n",
       "<style scoped>\n",
       "    .dataframe tbody tr th:only-of-type {\n",
       "        vertical-align: middle;\n",
       "    }\n",
       "\n",
       "    .dataframe tbody tr th {\n",
       "        vertical-align: top;\n",
       "    }\n",
       "\n",
       "    .dataframe thead th {\n",
       "        text-align: right;\n",
       "    }\n",
       "</style>\n",
       "<table border=\"1\" class=\"dataframe\">\n",
       "  <thead>\n",
       "    <tr style=\"text-align: right;\">\n",
       "      <th></th>\n",
       "      <th>ID</th>\n",
       "      <th>CREATED_DATE</th>\n",
       "      <th>BIRTH_DATE</th>\n",
       "      <th>STATE</th>\n",
       "      <th>LANGUAGE</th>\n",
       "      <th>GENDER</th>\n",
       "    </tr>\n",
       "  </thead>\n",
       "  <tbody>\n",
       "    <tr>\n",
       "      <th>0</th>\n",
       "      <td>5ef3b4f17053ab141787697d</td>\n",
       "      <td>2020-06-24</td>\n",
       "      <td>2000-08-11</td>\n",
       "      <td>CA</td>\n",
       "      <td>es</td>\n",
       "      <td>female</td>\n",
       "    </tr>\n",
       "    <tr>\n",
       "      <th>1</th>\n",
       "      <td>5ff220d383fcfc12622b96bc</td>\n",
       "      <td>2021-01-03</td>\n",
       "      <td>2001-09-24</td>\n",
       "      <td>PA</td>\n",
       "      <td>en</td>\n",
       "      <td>female</td>\n",
       "    </tr>\n",
       "    <tr>\n",
       "      <th>2</th>\n",
       "      <td>6477950aa55bb77a0e27ee10</td>\n",
       "      <td>2023-05-31</td>\n",
       "      <td>1994-10-28</td>\n",
       "      <td>FL</td>\n",
       "      <td>es</td>\n",
       "      <td>female</td>\n",
       "    </tr>\n",
       "    <tr>\n",
       "      <th>3</th>\n",
       "      <td>658a306e99b40f103b63ccf8</td>\n",
       "      <td>2023-12-26</td>\n",
       "      <td>NaT</td>\n",
       "      <td>NC</td>\n",
       "      <td>en</td>\n",
       "      <td>unknown</td>\n",
       "    </tr>\n",
       "    <tr>\n",
       "      <th>4</th>\n",
       "      <td>653cf5d6a225ea102b7ecdc2</td>\n",
       "      <td>2023-10-28</td>\n",
       "      <td>1972-03-19</td>\n",
       "      <td>PA</td>\n",
       "      <td>en</td>\n",
       "      <td>female</td>\n",
       "    </tr>\n",
       "  </tbody>\n",
       "</table>\n",
       "</div>"
      ],
      "text/plain": [
       "                         ID CREATED_DATE  BIRTH_DATE STATE LANGUAGE   GENDER\n",
       "0  5ef3b4f17053ab141787697d   2020-06-24  2000-08-11    CA       es   female\n",
       "1  5ff220d383fcfc12622b96bc   2021-01-03  2001-09-24    PA       en   female\n",
       "2  6477950aa55bb77a0e27ee10   2023-05-31  1994-10-28    FL       es   female\n",
       "3  658a306e99b40f103b63ccf8   2023-12-26         NaT    NC       en  unknown\n",
       "4  653cf5d6a225ea102b7ecdc2   2023-10-28  1972-03-19    PA       en   female"
      ]
     },
     "execution_count": 15,
     "metadata": {},
     "output_type": "execute_result"
    }
   ],
   "source": [
    "# check for the data after cleaning\n",
    "users.head(5)"
   ]
  },
  {
   "cell_type": "markdown",
   "metadata": {},
   "source": [
    "### Visualization"
   ]
  },
  {
   "cell_type": "code",
   "execution_count": 16,
   "metadata": {},
   "outputs": [
    {
     "data": {
      "image/png": "[encoded data removed]",
      "text/plain": [
       "<Figure size 1000x500 with 2 Axes>"
      ]
     },
     "metadata": {},
     "output_type": "display_data"
    }
   ],
   "source": [
    "fig, axes = plt.subplots(1, 2, figsize=(10, 5))\n",
    "\n",
    "# Pie chart for language distribution\n",
    "axes[0].pie(users['LANGUAGE'].value_counts(dropna=False), \n",
    "            labels=users['LANGUAGE'].value_counts(dropna=False).index, \n",
    "            autopct='%1.1f%%', colors=['skyblue', 'yellow', 'lightcoral'])\n",
    "axes[0].legend(['English', 'Unknown', 'Spanish'])\n",
    "axes[0].set_title('Language Distribution')\n",
    "\n",
    "# Countplot for gender distribution\n",
    "sns.countplot(y='GENDER', data=users, \n",
    "              order=users['GENDER'].value_counts().index, \n",
    "              color='gray', ax=axes[1])\n",
    "axes[1].set_title('Gender Distribution')\n",
    "axes[1].set_xlabel('Number of Users')\n",
    "\n",
    "plt.tight_layout()\n",
    "plt.show()"
   ]
  },
  {
   "cell_type": "code",
   "execution_count": 17,
   "metadata": {},
   "outputs": [
    {
     "data": {
      "image/png": "[encoded data removed]",
      "text/plain": [
       "<Figure size 640x480 with 1 Axes>"
      ]
     },
     "metadata": {},
     "output_type": "display_data"
    }
   ],
   "source": [
    "# top 10 states by user count\n",
    "plt.plot(figsize=(100, 50))\n",
    "sns.countplot(y='STATE', data=users, order=users['STATE'].value_counts().index[:10], color='brown')\n",
    "plt.title('Top 10 States by User Count')\n",
    "plt.xlabel('Number of Users')\n",
    "plt.show()"
   ]
  },
  {
   "cell_type": "markdown",
   "metadata": {},
   "source": [
    "The three graphs above all show distributions of different focus: `LANGUAGE`, `GENDER`, and `STATE`.   \n",
    "Some quick facts are:\n",
    "* The users appear to be primarily English-focused\n",
    "* There's a clear female majority in users\n",
    "* Texas, Flordia, and California are the states with the most users   \n",
    "\n",
    "This could reflect the nature of the product (e.g., it might be more appealing to or targeted at women). These insights could be valuable for tailoring marketing strategies and product development.\n",
    "   \n",
    "The three columns share the same data quality issues: All three graphs show significant \"unknown\" data, leading to potential incorrect analysis."
   ]
  },
  {
   "cell_type": "code",
   "execution_count": 18,
   "metadata": {},
   "outputs": [],
   "source": [
    "# create new dataframe and columns for EDA purpose\n",
    "users_eda = users[['ID', 'CREATED_DATE', 'BIRTH_DATE']] # avoid changing the original data\n",
    "users_eda['CREATED_YEAR'] = users_eda['CREATED_DATE'].astype(str).str[:4].astype(int) # extract the year from the date\n",
    "users_eda['CREATED_MONTH'] = users_eda['CREATED_DATE'].astype(str).str[5:7].astype(int) # extract the month from the date"
   ]
  },
  {
   "cell_type": "code",
   "execution_count": 19,
   "metadata": {},
   "outputs": [
    {
     "data": {
      "image/png": "[encoded data removed]",
      "text/plain": [
       "<Figure size 1200x600 with 1 Axes>"
      ]
     },
     "metadata": {},
     "output_type": "display_data"
    }
   ],
   "source": [
    "# visualize the distribution of users created over the months and years\n",
    "created_trend = users_eda.groupby(['CREATED_YEAR', 'CREATED_MONTH'])['ID'].count().reset_index()\n",
    "\n",
    "plt.figure(figsize=(12, 6))\n",
    "sns.lineplot(x='CREATED_MONTH', y='ID', hue='CREATED_YEAR', data=created_trend, marker='o', palette='tab20')\n",
    "plt.title('Monthly Registration Trend by Year')\n",
    "plt.xlabel('Month')\n",
    "plt.ylabel('Number of Registrations')\n",
    "plt.xticks(range(1, 13))\n",
    "plt.legend(title='Year', bbox_to_anchor=(1.05, 1), loc='upper left')\n",
    "plt.grid(visible=True)\n",
    "plt.show()"
   ]
  },
  {
   "cell_type": "markdown",
   "metadata": {},
   "source": [
    "This graph illustrates monthly registration trends from 2014 to September 2024. Here are the key insights:\n",
    "\n",
    "1. Overall Growth: Each subsequent year generally shows higher registration numbers than the previous one, indicating consistent growth. Recent years (2020-2023) demonstrate significantly higher registration volumes compared to earlier years.\n",
    "\n",
    "2. Seasonal Patterns: Most years show a peak in registrations around the middle of the year (month 6-8), suggesting a seasonal trend. This could be related to summer promotions or other cyclical factors.\n",
    "\n",
    "3. End-of-Year Trend: Many years show an uptick in registrations towards the end of the year (month 11-12), possibly due to holiday-related promotions.\n",
    "\n",
    "These insights indicate a growing user base with seasonal fluctuations. The strong growth in recent years points to a positive trajectory for the company, while the consistent seasonal patterns could guide marketing strategies and resource planning throughout the year."
   ]
  },
  {
   "cell_type": "code",
   "execution_count": 20,
   "metadata": {},
   "outputs": [
    {
     "data": {
      "image/png": "[encoded data removed]",
      "text/plain": [
       "<Figure size 640x480 with 1 Axes>"
      ]
     },
     "metadata": {},
     "output_type": "display_data"
    }
   ],
   "source": [
    "# age distribution\n",
    "users_eda['AGE'] = (pd.to_datetime('today').tz_localize(None) - pd.to_datetime(users_eda['BIRTH_DATE']).dt.tz_localize(None)).astype('<m8[Y]')\n",
    "\n",
    "# create bins for ages to enhance readability \n",
    "bins = [0, 5, 10, 15, 20, 25, 30, 35, 40, 45, 50, 55, 60, 65, 70, 75, 80, 85, 90, 95, 100]\n",
    "labels = ['0-5', '6-10', '11-15', '16-20', '21-25', '26-30', '31-35', '36-40', '41-45', '46-50', '51-55', '56-60', '61-65', '66-70', '71-75', '76-80', '81-85', '86-90', '91-95', '96-100']\n",
    "users_eda['AGE_GROUP'] = pd.cut(users_eda['AGE'], bins=bins, labels=labels)\n",
    "\n",
    "plt.plot(figsize=(20, 15))\n",
    "sns.countplot(x='AGE_GROUP', data=users_eda, color='navy')\n",
    "plt.title('User Age Distribution')\n",
    "plt.xticks(rotation=45)\n",
    "plt.show()"
   ]
  },
  {
   "cell_type": "markdown",
   "metadata": {},
   "source": [
    "The distribution shows a strong concentration of users in the young adult age range (21-25), with the majority falling between 21-45 years old. There is a gradual decline in user numbers as age increases. The lower numbers in both youth and senior age groups highlight potential opportunities for targeted marketing or product features to attract these demographics. These insights can help ensure the user experience caters to the dominant age groups while remaining inclusive.\n",
    "   \n",
    "This age distribution, combined with the previous graphs on geographic, language, and gender distribution, provides a comprehensive view of the user base demographics."
   ]
  },
  {
   "cell_type": "code",
   "execution_count": 21,
   "metadata": {},
   "outputs": [
    {
     "data": {
      "image/png": "[encoded data removed]",
      "text/plain": [
       "<Figure size 800x400 with 1 Axes>"
      ]
     },
     "metadata": {},
     "output_type": "display_data"
    }
   ],
   "source": [
    "# duration of membership\n",
    "users_eda['REGISTRATION_DURATION'] = (pd.to_datetime('today').tz_localize(None) - pd.to_datetime(users_eda['CREATED_DATE'])).dt.days\n",
    "# because months have varying lengths (e.g., February has 28 or 29 days, while other months have 30 or 31 days), we will use days for the duration\n",
    "\n",
    "plt.figure(figsize=(8, 4))\n",
    "sns.boxplot(users_eda['REGISTRATION_DURATION'])\n",
    "plt.xlabel('Days')\n",
    "plt.title('Duration of Membership in Days')\n",
    "plt.show()"
   ]
  },
  {
   "cell_type": "markdown",
   "metadata": {},
   "source": [
    "This graph illustrates the distribution of membership durations in days (how long have them been a Fetch member). The vertical line inside the box marks the median registration duration, which appears to be around 3 years (approximately 1,000 days). Most users have been registered with the app for 2 to 4 years (700-1,400 days), consistent with the trends observed in the registration trend data.   \n",
    "The distribution is right-skewed, indicating a long tail of users with longer registration durations. The numerous outliers on the right side represent early adopters of Fetch, those who registered between 2014 and 2018."
   ]
  },
  {
   "cell_type": "markdown",
   "metadata": {},
   "source": [
    "## 1-3 The Transactions Data"
   ]
  },
  {
   "cell_type": "code",
   "execution_count": 22,
   "metadata": {},
   "outputs": [
    {
     "data": {
      "text/html": [
       "<div>\n",
       "<style scoped>\n",
       "    .dataframe tbody tr th:only-of-type {\n",
       "        vertical-align: middle;\n",
       "    }\n",
       "\n",
       "    .dataframe tbody tr th {\n",
       "        vertical-align: top;\n",
       "    }\n",
       "\n",
       "    .dataframe thead th {\n",
       "        text-align: right;\n",
       "    }\n",
       "</style>\n",
       "<table border=\"1\" class=\"dataframe\">\n",
       "  <thead>\n",
       "    <tr style=\"text-align: right;\">\n",
       "      <th></th>\n",
       "      <th>RECEIPT_ID</th>\n",
       "      <th>PURCHASE_DATE</th>\n",
       "      <th>SCAN_DATE</th>\n",
       "      <th>STORE_NAME</th>\n",
       "      <th>USER_ID</th>\n",
       "      <th>BARCODE</th>\n",
       "      <th>FINAL_QUANTITY</th>\n",
       "      <th>FINAL_SALE</th>\n",
       "    </tr>\n",
       "  </thead>\n",
       "  <tbody>\n",
       "    <tr>\n",
       "      <th>0</th>\n",
       "      <td>0000d256-4041-4a3e-adc4-5623fb6e0c99</td>\n",
       "      <td>2024-08-21</td>\n",
       "      <td>2024-08-21 14:19:06.539 Z</td>\n",
       "      <td>WALMART</td>\n",
       "      <td>63b73a7f3d310dceeabd4758</td>\n",
       "      <td>1.530001e+10</td>\n",
       "      <td>1.00</td>\n",
       "      <td></td>\n",
       "    </tr>\n",
       "    <tr>\n",
       "      <th>1</th>\n",
       "      <td>0001455d-7a92-4a7b-a1d2-c747af1c8fd3</td>\n",
       "      <td>2024-07-20</td>\n",
       "      <td>2024-07-20 09:50:24.206 Z</td>\n",
       "      <td>ALDI</td>\n",
       "      <td>62c08877baa38d1a1f6c211a</td>\n",
       "      <td>NaN</td>\n",
       "      <td>zero</td>\n",
       "      <td>1.49</td>\n",
       "    </tr>\n",
       "    <tr>\n",
       "      <th>2</th>\n",
       "      <td>00017e0a-7851-42fb-bfab-0baa96e23586</td>\n",
       "      <td>2024-08-18</td>\n",
       "      <td>2024-08-19 15:38:56.813 Z</td>\n",
       "      <td>WALMART</td>\n",
       "      <td>60842f207ac8b7729e472020</td>\n",
       "      <td>7.874223e+10</td>\n",
       "      <td>1.00</td>\n",
       "      <td></td>\n",
       "    </tr>\n",
       "    <tr>\n",
       "      <th>3</th>\n",
       "      <td>000239aa-3478-453d-801e-66a82e39c8af</td>\n",
       "      <td>2024-06-18</td>\n",
       "      <td>2024-06-19 11:03:37.468 Z</td>\n",
       "      <td>FOOD LION</td>\n",
       "      <td>63fcd7cea4f8442c3386b589</td>\n",
       "      <td>7.833997e+11</td>\n",
       "      <td>zero</td>\n",
       "      <td>3.49</td>\n",
       "    </tr>\n",
       "    <tr>\n",
       "      <th>4</th>\n",
       "      <td>00026b4c-dfe8-49dd-b026-4c2f0fd5c6a1</td>\n",
       "      <td>2024-07-04</td>\n",
       "      <td>2024-07-05 15:56:43.549 Z</td>\n",
       "      <td>RANDALLS</td>\n",
       "      <td>6193231ae9b3d75037b0f928</td>\n",
       "      <td>4.790050e+10</td>\n",
       "      <td>1.00</td>\n",
       "      <td></td>\n",
       "    </tr>\n",
       "  </tbody>\n",
       "</table>\n",
       "</div>"
      ],
      "text/plain": [
       "                             RECEIPT_ID PURCHASE_DATE  \\\n",
       "0  0000d256-4041-4a3e-adc4-5623fb6e0c99    2024-08-21   \n",
       "1  0001455d-7a92-4a7b-a1d2-c747af1c8fd3    2024-07-20   \n",
       "2  00017e0a-7851-42fb-bfab-0baa96e23586    2024-08-18   \n",
       "3  000239aa-3478-453d-801e-66a82e39c8af    2024-06-18   \n",
       "4  00026b4c-dfe8-49dd-b026-4c2f0fd5c6a1    2024-07-04   \n",
       "\n",
       "                   SCAN_DATE STORE_NAME                   USER_ID  \\\n",
       "0  2024-08-21 14:19:06.539 Z    WALMART  63b73a7f3d310dceeabd4758   \n",
       "1  2024-07-20 09:50:24.206 Z       ALDI  62c08877baa38d1a1f6c211a   \n",
       "2  2024-08-19 15:38:56.813 Z    WALMART  60842f207ac8b7729e472020   \n",
       "3  2024-06-19 11:03:37.468 Z  FOOD LION  63fcd7cea4f8442c3386b589   \n",
       "4  2024-07-05 15:56:43.549 Z   RANDALLS  6193231ae9b3d75037b0f928   \n",
       "\n",
       "        BARCODE FINAL_QUANTITY FINAL_SALE  \n",
       "0  1.530001e+10           1.00             \n",
       "1           NaN           zero       1.49  \n",
       "2  7.874223e+10           1.00             \n",
       "3  7.833997e+11           zero       3.49  \n",
       "4  4.790050e+10           1.00             "
      ]
     },
     "execution_count": 22,
     "metadata": {},
     "output_type": "execute_result"
    }
   ],
   "source": [
    "# Display the first 5 rows of the data to understand the structure\n",
    "transactions.head(5)"
   ]
  },
  {
   "cell_type": "code",
   "execution_count": 23,
   "metadata": {},
   "outputs": [
    {
     "name": "stdout",
     "output_type": "stream",
     "text": [
      "Information about the transactions data: \n",
      "<class 'pandas.core.frame.DataFrame'>\n",
      "RangeIndex: 50000 entries, 0 to 49999\n",
      "Data columns (total 8 columns):\n",
      " #   Column          Non-Null Count  Dtype  \n",
      "---  ------          --------------  -----  \n",
      " 0   RECEIPT_ID      50000 non-null  object \n",
      " 1   PURCHASE_DATE   50000 non-null  object \n",
      " 2   SCAN_DATE       50000 non-null  object \n",
      " 3   STORE_NAME      50000 non-null  object \n",
      " 4   USER_ID         50000 non-null  object \n",
      " 5   BARCODE         44238 non-null  float64\n",
      " 6   FINAL_QUANTITY  50000 non-null  object \n",
      " 7   FINAL_SALE      50000 non-null  object \n",
      "dtypes: float64(1), object(7)\n",
      "memory usage: 3.1+ MB\n",
      "None\n",
      " \n",
      "Number of missing values in the transactions data: \n",
      "RECEIPT_ID           0\n",
      "PURCHASE_DATE        0\n",
      "SCAN_DATE            0\n",
      "STORE_NAME           0\n",
      "USER_ID              0\n",
      "BARCODE           5762\n",
      "FINAL_QUANTITY       0\n",
      "FINAL_SALE           0\n",
      "dtype: int64\n",
      " \n",
      "Number of duplicates in the transactions data: \n",
      "171\n"
     ]
    }
   ],
   "source": [
    "# understand the data types and missing values to prepare for data cleaning\n",
    "print('Information about the transactions data: ')\n",
    "print(transactions.info())\n",
    "print(' ')\n",
    "print('Number of missing values in the transactions data: ')\n",
    "print(transactions.isnull().sum())\n",
    "print(' ')\n",
    "print('Number of duplicates in the transactions data: ')\n",
    "print(transactions.duplicated().sum())"
   ]
  },
  {
   "cell_type": "code",
   "execution_count": 24,
   "metadata": {},
   "outputs": [
    {
     "data": {
      "text/plain": [
       "array(['1.00', 'zero', '2.00', '3.00', '4.00', '4.55', '2.83', '2.34',\n",
       "       '0.46', '7.00', '18.00', '12.00', '5.00', '2.17', '0.23', '8.00',\n",
       "       '1.35', '0.09', '2.58', '1.47', '16.00', '0.62', '1.24', '1.40',\n",
       "       '0.51', '0.53', '1.69', '6.00', '2.39', '2.60', '10.00', '0.86',\n",
       "       '1.54', '1.88', '2.93', '1.28', '0.65', '2.89', '1.44', '2.75',\n",
       "       '1.81', '276.00', '0.87', '2.10', '3.33', '2.54', '2.20', '1.93',\n",
       "       '1.34', '1.13', '2.19', '0.83', '2.61', '0.28', '1.50', '0.97',\n",
       "       '0.24', '1.18', '6.22', '1.22', '1.23', '2.57', '1.07', '2.11',\n",
       "       '0.48', '9.00', '3.11', '1.08', '5.53', '1.89', '0.01', '2.18',\n",
       "       '1.99', '0.04', '2.25', '1.37', '3.02', '0.35', '0.99', '1.80',\n",
       "       '3.24', '0.94', '2.04', '3.69', '0.70', '2.52', '2.27'],\n",
       "      dtype=object)"
      ]
     },
     "execution_count": 24,
     "metadata": {},
     "output_type": "execute_result"
    }
   ],
   "source": [
    "# understand the values contained in the column\n",
    "transactions['FINAL_QUANTITY'].unique()"
   ]
  },
  {
   "cell_type": "code",
   "execution_count": 25,
   "metadata": {},
   "outputs": [
    {
     "data": {
      "text/plain": [
       "array([' ', '1.49', '3.49', ..., '11.02', '20.17', '42.38'], dtype=object)"
      ]
     },
     "execution_count": 25,
     "metadata": {},
     "output_type": "execute_result"
    }
   ],
   "source": [
    "# understand the values contained in the column\n",
    "transactions['FINAL_SALE'].unique()"
   ]
  },
  {
   "cell_type": "markdown",
   "metadata": {},
   "source": [
    "The *transactions* dataset contains 50,000 entries, recording various aspects of user transactions. The columns `RECEIPT_ID`, `USER_ID`, and `BARCODE` together serve as a composite primary key, as these three fields uniquely identify a specific transaction row. A single `RECEIPT_ID` can appear multiple times since a single receipt often involves multiple items (represented by the `BARCODE`). Additionally, `BARCODE` and `USER_ID` function are foreign keys, linking the transactions data to the product and user datasets respectively. As a result, the 5,000+ missing values in the `BARCODE` column present a significant issue, as it could impede the ability to connect the transactions to the correct products. I'd recommend dropping the rows with missing `BARCODE` to maintain the integrity of the product associations and ensure accurate analysis.\n",
    "   \n",
    "There are 171 duplicate entries in the dataset that need to be removed to prevent skewed results. Regarding data types, `PURCHASE_DATE` uses the desired format, while `SCAN_DATE` unnecessarily includes time, which can be simplified to only show the date. The consistence format between `PURCHASE_DATE` and `SCAN_DATE` would also allow further analysis. \n",
    "\n",
    "Additionally, both `FINAL_QUANTITY` and `FINAL_SALE` are stored as object types, although they should be numeric (float). While there are no missing values in these columns, there are data quality issues: \"zero\" values instead of \"0\" in `FINAL_QUANTITY` and blank spaces in `FINAL_SALE`, both of which require data cleaning to ensure consistency and accuracy."
   ]
  },
  {
   "cell_type": "markdown",
   "metadata": {},
   "source": [
    "Some columns in the dataset are unclear:\n",
    "* **FINAL_QUANTITY**: The title suggests this column represents the quantity of items sold in the transaction. However, there are many decimal values, which is unusual because items are generally sold in whole units. This suggests that `FINAL_QUANTITY` might represent something other than the number of units sold, possibly a weighted quantity (e.g., kilograms or liters) for certain products.\n",
    "* **FINAL_SALE**: Initially, I assumed this column represented the final price the item was sold for. However, the presence of numerous empty values raises doubts.   \n",
    "\n",
    "To figure out what these two columns represent, I will conduct further analysis after data is cleaned."
   ]
  },
  {
   "cell_type": "markdown",
   "metadata": {},
   "source": [
    "Finally, based on the logic of earning Fetch rewards, the `SCAN_DATE` should either match the `PURCHASE_DATE` or occur later, as the `PURCHASE_DATE` indicates when the purchase took place and users can only scan the receipt afterward."
   ]
  },
  {
   "cell_type": "code",
   "execution_count": 26,
   "metadata": {},
   "outputs": [
    {
     "name": "stdout",
     "output_type": "stream",
     "text": [
      "Number of rows with SCAN_DATE prior to PURCHASE_DATE:\n",
      "94\n"
     ]
    }
   ],
   "source": [
    "print('Number of rows with SCAN_DATE prior to PURCHASE_DATE:')\n",
    "print(len(transactions[pd.to_datetime(transactions['PURCHASE_DATE']) > pd.to_datetime(transactions['SCAN_DATE']).dt.date]))"
   ]
  },
  {
   "cell_type": "markdown",
   "metadata": {},
   "source": [
    "Clearly, rows where the `SCAN_DATE` occurs before the `PURCHASE_DATE` likely indicate data entry errors. I will remove any rows where the `SCAN_DATE` is earlier than the `PURCHASE_DATE`. The variance in the number of days between the `PURCHASE_DATE` and the `SCAN_DATE` can be attributed to user behavior."
   ]
  },
  {
   "cell_type": "markdown",
   "metadata": {},
   "source": [
    "### Data Cleaning"
   ]
  },
  {
   "cell_type": "code",
   "execution_count": 27,
   "metadata": {},
   "outputs": [],
   "source": [
    "# convert to datetime format\n",
    "transactions['SCAN_DATE'] = pd.to_datetime(transactions['SCAN_DATE'], format='%Y-%m-%d %H:%M:%S')\n",
    "\n",
    "# drop duplicates\n",
    "transactions.drop_duplicates(inplace=True)\n",
    "\n",
    "# drop rows with missing values in the barcode column\n",
    "transactions.dropna(subset=['BARCODE'], inplace=True)\n",
    "\n",
    "# remove rows with SCAN_DATE prior to PURCHASE_DATE\n",
    "transactions = transactions[pd.to_datetime(transactions['PURCHASE_DATE']) <= transactions['SCAN_DATE'].dt.date]\n",
    "\n",
    "# avoid case sensitive issues\n",
    "transactions['STORE_NAME'] = transactions['STORE_NAME'].str.title()\n",
    "\n",
    "# replace 'zero' to 0 in final_quantity and convert others from string to float\n",
    "transactions['FINAL_QUANTITY'] = transactions['FINAL_QUANTITY'].replace('zero', '0')\n",
    "transactions['FINAL_QUANTITY'] = transactions['FINAL_QUANTITY'].astype(float)\n",
    "\n",
    "# replace ' ' to 0 in final_sale and convert others to numeric\n",
    "transactions['FINAL_SALE'] = transactions['FINAL_SALE'].replace(' ', '0')\n",
    "transactions['FINAL_SALE'] = transactions['FINAL_SALE'].astype(float)\n",
    "\n",
    "# remove scientific notation in the barcode column\n",
    "transactions['BARCODE'] = transactions['BARCODE'].astype(int).astype(str)"
   ]
  },
  {
   "cell_type": "code",
   "execution_count": 28,
   "metadata": {},
   "outputs": [
    {
     "data": {
      "text/html": [
       "<div>\n",
       "<style scoped>\n",
       "    .dataframe tbody tr th:only-of-type {\n",
       "        vertical-align: middle;\n",
       "    }\n",
       "\n",
       "    .dataframe tbody tr th {\n",
       "        vertical-align: top;\n",
       "    }\n",
       "\n",
       "    .dataframe thead th {\n",
       "        text-align: right;\n",
       "    }\n",
       "</style>\n",
       "<table border=\"1\" class=\"dataframe\">\n",
       "  <thead>\n",
       "    <tr style=\"text-align: right;\">\n",
       "      <th></th>\n",
       "      <th>RECEIPT_ID</th>\n",
       "      <th>PURCHASE_DATE</th>\n",
       "      <th>SCAN_DATE</th>\n",
       "      <th>STORE_NAME</th>\n",
       "      <th>USER_ID</th>\n",
       "      <th>BARCODE</th>\n",
       "      <th>FINAL_QUANTITY</th>\n",
       "      <th>FINAL_SALE</th>\n",
       "    </tr>\n",
       "  </thead>\n",
       "  <tbody>\n",
       "    <tr>\n",
       "      <th>0</th>\n",
       "      <td>0000d256-4041-4a3e-adc4-5623fb6e0c99</td>\n",
       "      <td>2024-08-21</td>\n",
       "      <td>2024-08-21 14:19:06.539000+00:00</td>\n",
       "      <td>Walmart</td>\n",
       "      <td>63b73a7f3d310dceeabd4758</td>\n",
       "      <td>15300014978</td>\n",
       "      <td>1.0</td>\n",
       "      <td>0.00</td>\n",
       "    </tr>\n",
       "    <tr>\n",
       "      <th>2</th>\n",
       "      <td>00017e0a-7851-42fb-bfab-0baa96e23586</td>\n",
       "      <td>2024-08-18</td>\n",
       "      <td>2024-08-19 15:38:56.813000+00:00</td>\n",
       "      <td>Walmart</td>\n",
       "      <td>60842f207ac8b7729e472020</td>\n",
       "      <td>78742229751</td>\n",
       "      <td>1.0</td>\n",
       "      <td>0.00</td>\n",
       "    </tr>\n",
       "    <tr>\n",
       "      <th>3</th>\n",
       "      <td>000239aa-3478-453d-801e-66a82e39c8af</td>\n",
       "      <td>2024-06-18</td>\n",
       "      <td>2024-06-19 11:03:37.468000+00:00</td>\n",
       "      <td>Food Lion</td>\n",
       "      <td>63fcd7cea4f8442c3386b589</td>\n",
       "      <td>783399746536</td>\n",
       "      <td>0.0</td>\n",
       "      <td>3.49</td>\n",
       "    </tr>\n",
       "  </tbody>\n",
       "</table>\n",
       "</div>"
      ],
      "text/plain": [
       "                             RECEIPT_ID PURCHASE_DATE  \\\n",
       "0  0000d256-4041-4a3e-adc4-5623fb6e0c99    2024-08-21   \n",
       "2  00017e0a-7851-42fb-bfab-0baa96e23586    2024-08-18   \n",
       "3  000239aa-3478-453d-801e-66a82e39c8af    2024-06-18   \n",
       "\n",
       "                         SCAN_DATE STORE_NAME                   USER_ID  \\\n",
       "0 2024-08-21 14:19:06.539000+00:00    Walmart  63b73a7f3d310dceeabd4758   \n",
       "2 2024-08-19 15:38:56.813000+00:00    Walmart  60842f207ac8b7729e472020   \n",
       "3 2024-06-19 11:03:37.468000+00:00  Food Lion  63fcd7cea4f8442c3386b589   \n",
       "\n",
       "        BARCODE  FINAL_QUANTITY  FINAL_SALE  \n",
       "0   15300014978             1.0        0.00  \n",
       "2   78742229751             1.0        0.00  \n",
       "3  783399746536             0.0        3.49  "
      ]
     },
     "execution_count": 28,
     "metadata": {},
     "output_type": "execute_result"
    }
   ],
   "source": [
    "# check the data after cleaning\n",
    "transactions.head(3)"
   ]
  },
  {
   "cell_type": "markdown",
   "metadata": {},
   "source": [
    "To continue exploring what `FINAL_QUANTITY` and `FINAL_SALE` represent, I used the following code to know the rows of presence of each scenario:"
   ]
  },
  {
   "cell_type": "code",
   "execution_count": 29,
   "metadata": {},
   "outputs": [
    {
     "name": "stdout",
     "output_type": "stream",
     "text": [
      "Both FINAL_QUANTITY and FINAL_SALE columns are 0.0:  57\n",
      "Both FINAL_QUANTITY and FINAL_SALE columns are valid numbers:  21835\n",
      "Only FINAL_QUANTITY column is 0.0:  10981\n",
      "Only FINAL_SALE column is 0.0:  11127\n"
     ]
    }
   ],
   "source": [
    "print('Both FINAL_QUANTITY and FINAL_SALE columns are 0.0: ', \n",
    "      len(transactions[(transactions['FINAL_QUANTITY'] == 0.0) & (transactions['FINAL_SALE'] == 0.0)]))\n",
    "print('Both FINAL_QUANTITY and FINAL_SALE columns are valid numbers: ', \n",
    "      len(transactions[(transactions['FINAL_QUANTITY'] != 0.0) & (transactions['FINAL_SALE'] != 0.0)]))\n",
    "print('Only FINAL_QUANTITY column is 0.0: ', \n",
    "      len(transactions[(transactions['FINAL_QUANTITY'] == 0.0) & (transactions['FINAL_SALE'] != 0.0)]))\n",
    "print('Only FINAL_SALE column is 0.0: ', \n",
    "      len(transactions[(transactions['FINAL_QUANTITY'] != 0.0) & (transactions['FINAL_SALE'] == 0.0)]))"
   ]
  },
  {
   "cell_type": "markdown",
   "metadata": {},
   "source": [
    "The cases where both `FINAL_QUANTITY` and `FINAL_SALE` are 0.0 are rare and likely represent incomplete transactions or data entry errors, as it doesn't make sense for both fields to be zero. As a result, I will remove these rows during data cleaning. On the other hand, rows where both `FINAL_QUANTITY` and `FINAL_SALE` are valid represent normal transactions.\n",
    "   \n",
    "After exploring how Fetch App displays the scanned receipt, for rows where only one of the two columns contains a valid value, my assumptions are as follows:\n",
    "\n",
    "* ***Valid FINAL_QUANTITY but FINAL_SALE is 0.0***: This might indicate gifts or promotions, where the product was given to the customer but no money was charged.\n",
    "* ***Valid FINAL_SALE but FINAL_QUANTITY is 0.0***: Since there are no rows with negative `FINAL_SALE` to indicate a return, I assume this represents returns. In this scenario, the sale amount (`FINAL_SALE`) reflects the refund, but the quantity (`FINAL_QUANTITY`) is set to zero as no items were given out. This assumption aligns with the possibility that Fetch Rewards is more concerned with how much a customer spends on a brand rather than the quantity of products purchased."
   ]
  },
  {
   "cell_type": "code",
   "execution_count": 30,
   "metadata": {},
   "outputs": [],
   "source": [
    "# drop rows with both FINAL_QUANTITY and FINAL_SALE are 0\n",
    "both_zero = transactions[(transactions['FINAL_QUANTITY'] == 0.0) & (transactions['FINAL_SALE'] == 0.0)].index\n",
    "transactions.drop(both_zero, inplace=True)"
   ]
  },
  {
   "cell_type": "markdown",
   "metadata": {},
   "source": [
    "### Visualization"
   ]
  },
  {
   "cell_type": "code",
   "execution_count": 31,
   "metadata": {},
   "outputs": [],
   "source": [
    "# create new dataframe and columns for EDA purpose\n",
    "transcations_trend = transactions[['RECEIPT_ID', 'SCAN_DATE']]\n",
    "transcations_trend['YEAR'] = transcations_trend['SCAN_DATE'].dt.year\n",
    "transcations_trend['MONTH'] = transcations_trend['SCAN_DATE'].dt.month"
   ]
  },
  {
   "cell_type": "code",
   "execution_count": 32,
   "metadata": {},
   "outputs": [
    {
     "data": {
      "image/png": "[encoded data removed]",
      "text/plain": [
       "<Figure size 1200x600 with 2 Axes>"
      ]
     },
     "metadata": {},
     "output_type": "display_data"
    }
   ],
   "source": [
    "plt.figure(figsize=(12, 6))\n",
    "\n",
    "# First subplot for the YEAR countplot\n",
    "plt.subplot(1, 2, 1)  # 1 row, 2 columns, first subplot\n",
    "sns.countplot(x='YEAR', data=transcations_trend, color='skyblue')\n",
    "plt.title('Year Distribution')\n",
    "plt.xlabel('Year')\n",
    "plt.ylabel('Count')\n",
    "\n",
    "# Second subplot for the MONTH countplot\n",
    "plt.subplot(1, 2, 2)  # 1 row, 2 columns, second subplot\n",
    "sns.countplot(x='MONTH', data=transcations_trend, color='navy')\n",
    "plt.title('Month Distribution')\n",
    "plt.xlabel('Month')\n",
    "plt.ylabel('Count')\n",
    "\n",
    "plt.tight_layout()\n",
    "plt.show()"
   ]
  },
  {
   "cell_type": "markdown",
   "metadata": {},
   "source": [
    "These visualizations intuitively show that all transactions occurred between June and September 2024."
   ]
  },
  {
   "cell_type": "code",
   "execution_count": 33,
   "metadata": {},
   "outputs": [
    {
     "data": {
      "image/png": "[encoded data removed]",
      "text/plain": [
       "<Figure size 640x480 with 1 Axes>"
      ]
     },
     "metadata": {},
     "output_type": "display_data"
    }
   ],
   "source": [
    "# top 15 stores by transaction count\n",
    "sns.countplot(y='STORE_NAME', data=transactions, order=transactions['STORE_NAME'].value_counts().head(15).index)\n",
    "plt.title('Top 15 Stores by Transaction Count')\n",
    "plt.show()"
   ]
  },
  {
   "cell_type": "markdown",
   "metadata": {},
   "source": [
    "This graph shows the top 15 stores by row (transaction) count. Walmart is overwhelmingly the store with the most transactions, with a count nearly eight times higher than the next competitor. This suggests Walmart is the primary shopping destination for a large portion of the user base. The second and third most frequent stores are Dollar General and Aldi, both known for their low prices, indicating a strong user preference for discount stores.   \n",
    "Additionally, many of the top stores (Aldi, Kroger, etc.) have a strong focus on food items, indicating that grocery shopping is a primary use case. These findings suggest that the user base of Fetch might heavily focused on value shopping and everyday household items and grogeries.   \n",
    "The data could be valuable for understanding shopping patterns, planning partnerships or promotions, and tailoring promotions across different types of retail environments."
   ]
  },
  {
   "cell_type": "markdown",
   "metadata": {},
   "source": [
    "## 1-4 Summary of the Data Quality & Assumption\n",
    "\n",
    "The three datasets, *products*, *users*, and *transactions*, offer a comprehensive view of user demographic, product details, and sales interactions. After exploring these datasets, it is clear that cleaning and standardization are required to ensure reliable analysis. Additionally, there are several data quality issues and some fields that are challenging to interpret:\n",
    "\n",
    "#### Data Quality Issues:\n",
    "- **Missing Values**:  \n",
    "  Missing values in non-critical columns may not affect the overall analysis, as they can be handled by assigning default values or dropping them based on the context. However, missing values in primary or foreign keys are more problematic as they impede proper linkage across datasets, leading to incomplete or inaccurate insights.  \n",
    "\n",
    "- **Duplicates**:  \n",
    "  The *transactions* data contains 171 duplicate entries and the *products* data has 215 duplicates that need to be removed to avoid skewing results.  \n",
    "\n",
    "- **Inconsistent Data Formatting**:  \n",
    "  Some columns store date data as datetime format, while others are stored as objects. Additionally, there are inconsistent language codes (a mix of ISO 639 and UN M.49), case sensitivity issues in the `GENDER` column, and numeric decimal values stored as strings, all of which require standardization to ensure accurate statistical analysis.\n",
    "\n",
    "#### Challenging Fields:\n",
    "Several fields across the datasets are challenging to understand, particularly `FINAL_QUANTITY` and `FINAL_SALE`. These column titles are not intuitive and the values they contain require significant time to explore and understand. Misinterpreting them could result in inaccurate analysis.\n",
    "\n",
    "#### Conclusion:\n",
    "The datasets provide valuable insights into products, users, and transactions; however, data quality issues like missing values, duplicates, inconsistent formatting, and unclear column definitions must be addressed through data cleaning and preprocessing. Clear documentation of each field would significantly enhance the quality of the analysis."
   ]
  },
  {
   "cell_type": "markdown",
   "metadata": {},
   "source": [
    "# 2. Answering the Queries\n",
    "In this section, I will address the questions by first thoroughly consider the purpose of the queries, and create a new dataframe with the necessary columns and calculations added to ensure a comprehensive analysis after reviewing all the questions. \n",
    "   \n",
    "The choice of using Python or SQL will depend on which tool is more intuitive and efficient for the specific task. Python will be employed for tasks requiring advanced data manipulation, new column creation, complex calculations, or visualizations, while SQL will be used for querying and filtering data directly from the tables when it provides a more straightforward solution."
   ]
  },
  {
   "cell_type": "markdown",
   "metadata": {},
   "source": [
    "### Data Preprocessing"
   ]
  },
  {
   "cell_type": "code",
   "execution_count": 34,
   "metadata": {},
   "outputs": [],
   "source": [
    "from sqlalchemy import create_engine\n",
    "\n",
    "# Create an in-memory SQLite database\n",
    "engine = create_engine('sqlite://', echo=False)"
   ]
  },
  {
   "cell_type": "code",
   "execution_count": 35,
   "metadata": {},
   "outputs": [
    {
     "data": {
      "text/html": [
       "<div>\n",
       "<style scoped>\n",
       "    .dataframe tbody tr th:only-of-type {\n",
       "        vertical-align: middle;\n",
       "    }\n",
       "\n",
       "    .dataframe tbody tr th {\n",
       "        vertical-align: top;\n",
       "    }\n",
       "\n",
       "    .dataframe thead th {\n",
       "        text-align: right;\n",
       "    }\n",
       "</style>\n",
       "<table border=\"1\" class=\"dataframe\">\n",
       "  <thead>\n",
       "    <tr style=\"text-align: right;\">\n",
       "      <th></th>\n",
       "      <th>ID</th>\n",
       "      <th>CREATED_DATE</th>\n",
       "      <th>BIRTH_DATE</th>\n",
       "      <th>STATE</th>\n",
       "      <th>LANGUAGE</th>\n",
       "      <th>GENDER</th>\n",
       "      <th>AGE</th>\n",
       "      <th>REGISTERED_DAYS</th>\n",
       "      <th>USER_GENERATION</th>\n",
       "    </tr>\n",
       "  </thead>\n",
       "  <tbody>\n",
       "    <tr>\n",
       "      <th>0</th>\n",
       "      <td>5ef3b4f17053ab141787697d</td>\n",
       "      <td>2020-06-24</td>\n",
       "      <td>2000-08-11</td>\n",
       "      <td>CA</td>\n",
       "      <td>es</td>\n",
       "      <td>female</td>\n",
       "      <td>24.0</td>\n",
       "      <td>1573</td>\n",
       "      <td>Gen Z</td>\n",
       "    </tr>\n",
       "    <tr>\n",
       "      <th>1</th>\n",
       "      <td>5ff220d383fcfc12622b96bc</td>\n",
       "      <td>2021-01-03</td>\n",
       "      <td>2001-09-24</td>\n",
       "      <td>PA</td>\n",
       "      <td>en</td>\n",
       "      <td>female</td>\n",
       "      <td>23.0</td>\n",
       "      <td>1380</td>\n",
       "      <td>Gen Z</td>\n",
       "    </tr>\n",
       "    <tr>\n",
       "      <th>2</th>\n",
       "      <td>6477950aa55bb77a0e27ee10</td>\n",
       "      <td>2023-05-31</td>\n",
       "      <td>1994-10-28</td>\n",
       "      <td>FL</td>\n",
       "      <td>es</td>\n",
       "      <td>female</td>\n",
       "      <td>29.0</td>\n",
       "      <td>502</td>\n",
       "      <td>Millennials</td>\n",
       "    </tr>\n",
       "  </tbody>\n",
       "</table>\n",
       "</div>"
      ],
      "text/plain": [
       "                         ID CREATED_DATE  BIRTH_DATE STATE LANGUAGE  GENDER  \\\n",
       "0  5ef3b4f17053ab141787697d   2020-06-24  2000-08-11    CA       es  female   \n",
       "1  5ff220d383fcfc12622b96bc   2021-01-03  2001-09-24    PA       en  female   \n",
       "2  6477950aa55bb77a0e27ee10   2023-05-31  1994-10-28    FL       es  female   \n",
       "\n",
       "    AGE  REGISTERED_DAYS USER_GENERATION  \n",
       "0  24.0             1573           Gen Z  \n",
       "1  23.0             1380           Gen Z  \n",
       "2  29.0              502     Millennials  "
      ]
     },
     "execution_count": 35,
     "metadata": {},
     "output_type": "execute_result"
    }
   ],
   "source": [
    "# first, add the new columns before merging all dataframes\n",
    "# create the age column. rows with missing birth date will have missing age\n",
    "users['AGE'] = (pd.to_datetime('today').tz_localize(None) - pd.to_datetime(users['BIRTH_DATE']).dt.tz_localize(None)).astype('<m8[Y]')\n",
    "\n",
    "# create the registration duration column\n",
    "# because months have varying lengths, I will use days for the duration\n",
    "users['REGISTERED_DAYS'] = (pd.to_datetime('today').tz_localize(None) - pd.to_datetime(users_eda['CREATED_DATE'])).dt.days\n",
    "\n",
    "# create user generation (assumption: generation is based on birth year)\n",
    "    # generation: \n",
    "    # Generation Alpha (born 2013-2025),\n",
    "    # Gen Z (born 1997-2012), \n",
    "    # Millennials (born 1981-1996), \n",
    "    # Gen X (born 1965-1980), \n",
    "    # Baby Boomers (born 1946-1964), \n",
    "    # Silent Generation (born 1925-1945)\n",
    "    # The Greatest Generation (born 1901-1924)\n",
    "    # reference: https://libguides.usc.edu/busdem/age\n",
    "users['USER_GENERATION'] = pd.cut(users['BIRTH_DATE'].dropna().astype(str).str[:4].astype(int), \n",
    "                                  bins=[1900, 1924, 1945, 1964, 1980, 1996, 2012, 2015], \n",
    "                                  labels=['The Greatest Generation', 'Silent Generation', 'Baby Boomers', 'Gen X', 'Millennials', 'Gen Z', 'Generation Alpha'])\n",
    "\n",
    "users.head(3)"
   ]
  },
  {
   "cell_type": "code",
   "execution_count": 36,
   "metadata": {},
   "outputs": [
    {
     "data": {
      "text/plain": [
       "100000"
      ]
     },
     "execution_count": 36,
     "metadata": {},
     "output_type": "execute_result"
    }
   ],
   "source": [
    "# Load DataFrames into the SQLite database\n",
    "products.to_sql('Products', con=engine, index=False, if_exists='replace')\n",
    "transactions.to_sql('Transactions', con=engine, index=False, if_exists='replace')\n",
    "users.to_sql('Users', con=engine, index=False, if_exists='replace')"
   ]
  },
  {
   "cell_type": "code",
   "execution_count": 37,
   "metadata": {},
   "outputs": [
    {
     "data": {
      "text/html": [
       "<div>\n",
       "<style scoped>\n",
       "    .dataframe tbody tr th:only-of-type {\n",
       "        vertical-align: middle;\n",
       "    }\n",
       "\n",
       "    .dataframe tbody tr th {\n",
       "        vertical-align: top;\n",
       "    }\n",
       "\n",
       "    .dataframe thead th {\n",
       "        text-align: right;\n",
       "    }\n",
       "</style>\n",
       "<table border=\"1\" class=\"dataframe\">\n",
       "  <thead>\n",
       "    <tr style=\"text-align: right;\">\n",
       "      <th></th>\n",
       "      <th>RECEIPT_ID</th>\n",
       "      <th>PURCHASE_DATE</th>\n",
       "      <th>SCAN_DATE</th>\n",
       "      <th>STORE_NAME</th>\n",
       "      <th>FINAL_QUANTITY</th>\n",
       "      <th>FINAL_SALE</th>\n",
       "      <th>CATEGORY_1</th>\n",
       "      <th>CATEGORY_2</th>\n",
       "      <th>CATEGORY_3</th>\n",
       "      <th>CATEGORY_4</th>\n",
       "      <th>...</th>\n",
       "      <th>BARCODE</th>\n",
       "      <th>USER_ID</th>\n",
       "      <th>CREATED_DATE</th>\n",
       "      <th>BIRTH_DATE</th>\n",
       "      <th>STATE</th>\n",
       "      <th>LANGUAGE</th>\n",
       "      <th>GENDER</th>\n",
       "      <th>AGE</th>\n",
       "      <th>REGISTERED_DAYS</th>\n",
       "      <th>USER_GENERATION</th>\n",
       "    </tr>\n",
       "  </thead>\n",
       "  <tbody>\n",
       "    <tr>\n",
       "      <th>0</th>\n",
       "      <td>00729da3-2564-4616-a4ea-7426232d52e8</td>\n",
       "      <td>2024-08-30</td>\n",
       "      <td>2024-09-03 13:00:21.972000</td>\n",
       "      <td>Family Dollar</td>\n",
       "      <td>1.0</td>\n",
       "      <td>0.00</td>\n",
       "      <td>Snacks</td>\n",
       "      <td>Candy</td>\n",
       "      <td>Chocolate Candy</td>\n",
       "      <td>None</td>\n",
       "      <td>...</td>\n",
       "      <td>34000080113</td>\n",
       "      <td>62e5a95ca6565cf0534c989c</td>\n",
       "      <td>2022-07-30</td>\n",
       "      <td>1961-07-21</td>\n",
       "      <td>FL</td>\n",
       "      <td>en</td>\n",
       "      <td>female</td>\n",
       "      <td>63.0</td>\n",
       "      <td>807</td>\n",
       "      <td>Baby Boomers</td>\n",
       "    </tr>\n",
       "    <tr>\n",
       "      <th>1</th>\n",
       "      <td>00ad12b5-a990-4f56-b7d8-78a506c36529</td>\n",
       "      <td>2024-08-18</td>\n",
       "      <td>2024-08-18 16:22:58.531000</td>\n",
       "      <td>7-Eleven</td>\n",
       "      <td>0.0</td>\n",
       "      <td>2.39</td>\n",
       "      <td>Snacks</td>\n",
       "      <td>Candy</td>\n",
       "      <td>Confection Candy</td>\n",
       "      <td>None</td>\n",
       "      <td>...</td>\n",
       "      <td>40000001607</td>\n",
       "      <td>610a8541ca1fab5b417b5d33</td>\n",
       "      <td>2021-08-04</td>\n",
       "      <td>1977-01-12</td>\n",
       "      <td>NY</td>\n",
       "      <td>en</td>\n",
       "      <td>male</td>\n",
       "      <td>47.0</td>\n",
       "      <td>1167</td>\n",
       "      <td>Gen X</td>\n",
       "    </tr>\n",
       "    <tr>\n",
       "      <th>2</th>\n",
       "      <td>019520fd-f28b-42ff-a29e-d6bf4f5c4b7c</td>\n",
       "      <td>2024-08-19</td>\n",
       "      <td>2024-08-19 11:19:59.681000</td>\n",
       "      <td>Meijer</td>\n",
       "      <td>0.0</td>\n",
       "      <td>2.49</td>\n",
       "      <td>Snacks</td>\n",
       "      <td>Snack Cakes</td>\n",
       "      <td>Rice Treats</td>\n",
       "      <td>None</td>\n",
       "      <td>...</td>\n",
       "      <td>41250087700</td>\n",
       "      <td>646bdaa67a342372c857b958</td>\n",
       "      <td>2023-05-22</td>\n",
       "      <td>1981-03-23</td>\n",
       "      <td>WI</td>\n",
       "      <td>en</td>\n",
       "      <td>female</td>\n",
       "      <td>43.0</td>\n",
       "      <td>511</td>\n",
       "      <td>Millennials</td>\n",
       "    </tr>\n",
       "    <tr>\n",
       "      <th>3</th>\n",
       "      <td>02c675f0-3d0c-49ae-aa18-9422bb9b1cda</td>\n",
       "      <td>2024-06-28</td>\n",
       "      <td>2024-06-28 09:59:19.953000</td>\n",
       "      <td>Publix</td>\n",
       "      <td>1.0</td>\n",
       "      <td>0.00</td>\n",
       "      <td>Snacks</td>\n",
       "      <td>Snack Cakes</td>\n",
       "      <td>Cakes &amp; Truffles Snack Cakes</td>\n",
       "      <td>None</td>\n",
       "      <td>...</td>\n",
       "      <td>72030000350</td>\n",
       "      <td>647281efa55bb77a0e26f586</td>\n",
       "      <td>2023-05-27</td>\n",
       "      <td>1960-06-13</td>\n",
       "      <td>FL</td>\n",
       "      <td>en</td>\n",
       "      <td>male</td>\n",
       "      <td>64.0</td>\n",
       "      <td>506</td>\n",
       "      <td>Baby Boomers</td>\n",
       "    </tr>\n",
       "    <tr>\n",
       "      <th>4</th>\n",
       "      <td>04359032-f079-4fa3-b02d-0f97348b8f11</td>\n",
       "      <td>2024-08-29</td>\n",
       "      <td>2024-08-30 17:33:49.374000</td>\n",
       "      <td>Family Dollar</td>\n",
       "      <td>0.0</td>\n",
       "      <td>1.25</td>\n",
       "      <td>Snacks</td>\n",
       "      <td>Candy</td>\n",
       "      <td>Confection Candy</td>\n",
       "      <td>None</td>\n",
       "      <td>...</td>\n",
       "      <td>79200048563</td>\n",
       "      <td>6528a0a388a3a884364d94dc</td>\n",
       "      <td>2023-10-13</td>\n",
       "      <td>1988-06-30</td>\n",
       "      <td>WV</td>\n",
       "      <td>en</td>\n",
       "      <td>female</td>\n",
       "      <td>36.0</td>\n",
       "      <td>367</td>\n",
       "      <td>Millennials</td>\n",
       "    </tr>\n",
       "  </tbody>\n",
       "</table>\n",
       "<p>5 rows × 22 columns</p>\n",
       "</div>"
      ],
      "text/plain": [
       "                             RECEIPT_ID PURCHASE_DATE  \\\n",
       "0  00729da3-2564-4616-a4ea-7426232d52e8    2024-08-30   \n",
       "1  00ad12b5-a990-4f56-b7d8-78a506c36529    2024-08-18   \n",
       "2  019520fd-f28b-42ff-a29e-d6bf4f5c4b7c    2024-08-19   \n",
       "3  02c675f0-3d0c-49ae-aa18-9422bb9b1cda    2024-06-28   \n",
       "4  04359032-f079-4fa3-b02d-0f97348b8f11    2024-08-29   \n",
       "\n",
       "                    SCAN_DATE     STORE_NAME  FINAL_QUANTITY  FINAL_SALE  \\\n",
       "0  2024-09-03 13:00:21.972000  Family Dollar             1.0        0.00   \n",
       "1  2024-08-18 16:22:58.531000       7-Eleven             0.0        2.39   \n",
       "2  2024-08-19 11:19:59.681000         Meijer             0.0        2.49   \n",
       "3  2024-06-28 09:59:19.953000         Publix             1.0        0.00   \n",
       "4  2024-08-30 17:33:49.374000  Family Dollar             0.0        1.25   \n",
       "\n",
       "  CATEGORY_1   CATEGORY_2                    CATEGORY_3 CATEGORY_4  ...  \\\n",
       "0     Snacks        Candy               Chocolate Candy       None  ...   \n",
       "1     Snacks        Candy              Confection Candy       None  ...   \n",
       "2     Snacks  Snack Cakes                   Rice Treats       None  ...   \n",
       "3     Snacks  Snack Cakes  Cakes & Truffles Snack Cakes       None  ...   \n",
       "4     Snacks        Candy              Confection Candy       None  ...   \n",
       "\n",
       "       BARCODE                   USER_ID CREATED_DATE  BIRTH_DATE STATE  \\\n",
       "0  34000080113  62e5a95ca6565cf0534c989c   2022-07-30  1961-07-21    FL   \n",
       "1  40000001607  610a8541ca1fab5b417b5d33   2021-08-04  1977-01-12    NY   \n",
       "2  41250087700  646bdaa67a342372c857b958   2023-05-22  1981-03-23    WI   \n",
       "3  72030000350  647281efa55bb77a0e26f586   2023-05-27  1960-06-13    FL   \n",
       "4  79200048563  6528a0a388a3a884364d94dc   2023-10-13  1988-06-30    WV   \n",
       "\n",
       "  LANGUAGE  GENDER   AGE REGISTERED_DAYS  USER_GENERATION  \n",
       "0       en  female  63.0             807     Baby Boomers  \n",
       "1       en    male  47.0            1167            Gen X  \n",
       "2       en  female  43.0             511      Millennials  \n",
       "3       en    male  64.0             506     Baby Boomers  \n",
       "4       en  female  36.0             367      Millennials  \n",
       "\n",
       "[5 rows x 22 columns]"
      ]
     },
     "execution_count": 37,
     "metadata": {},
     "output_type": "execute_result"
    }
   ],
   "source": [
    "# join data while avoiding duplicated and unnecessary columns\n",
    "joint_query = '''\n",
    "SELECT t.RECEIPT_ID, t.PURCHASE_DATE, t.SCAN_DATE, t. STORE_NAME, t.FINAL_QUANTITY, t.FINAL_SALE, \n",
    "    p.CATEGORY_1, p.CATEGORY_2, p.CATEGORY_3, p.CATEGORY_4, p.MANUFACTURER, p.BRAND, p.BARCODE, \n",
    "    u.ID AS USER_ID, u.CREATED_DATE, u.BIRTH_DATE, u.STATE, u.LANGUAGE, u.GENDER, u.AGE, u.REGISTERED_DAYS, u.USER_GENERATION\n",
    "FROM transactions t\n",
    "JOIN Products p\n",
    "ON p.BARCODE = t.BARCODE\n",
    "JOIN users u\n",
    "ON u.ID = t.USER_ID\n",
    "'''\n",
    "\n",
    "# turn the query result into a DataFrame\n",
    "joint_df = pd.read_sql(joint_query, con=engine)\n",
    "joint_df.to_sql('JointData', con=engine, index=False, if_exists='replace')\n",
    "joint_df.head(5)"
   ]
  },
  {
   "cell_type": "code",
   "execution_count": 38,
   "metadata": {},
   "outputs": [
    {
     "name": "stdout",
     "output_type": "stream",
     "text": [
      "841369 rows in the products data after cleaning\n",
      "100000 rows in the users data after cleaning\n",
      "43943 rows in the transactions data after cleaning\n",
      " \n",
      "144 rows in the joint data after merging\n"
     ]
    }
   ],
   "source": [
    "# check how much data is available after merging\n",
    "print(f'{products.shape[0]} rows in the products data after cleaning')\n",
    "print(f'{users.shape[0]} rows in the users data after cleaning')\n",
    "print(f'{transactions.shape[0]} rows in the transactions data after cleaning')\n",
    "print(' ')\n",
    "print(f'{joint_df.shape[0]} rows in the joint data after merging')"
   ]
  },
  {
   "cell_type": "markdown",
   "metadata": {},
   "source": [
    "The three original datasets contain a large number of rows, so why does the joined data only have 144 rows? This significant loss of data could lead to major problems in the analysis. While a more flexible join, like a left or outer join, could retain more data, it may introduce issues for future analysis by including unmatched rows and missing values; as a result, I'll stay with using inner join.\n",
    "   \n",
    "To investigate the cause of the data loss, I used the following steps to identify where things went wrong:"
   ]
  },
  {
   "cell_type": "code",
   "execution_count": 39,
   "metadata": {},
   "outputs": [
    {
     "name": "stdout",
     "output_type": "stream",
     "text": [
      "Joining transactions and products data: \n",
      "   COUNT(*)\n",
      "0     24665\n",
      " \n",
      "Joining transactions and users data: \n",
      "   COUNT(*)\n",
      "0       238\n"
     ]
    }
   ],
   "source": [
    "# first check joining the transactions and products data\n",
    "print('Joining transactions and products data: ')\n",
    "print(pd.read_sql('SELECT COUNT(*) FROM transactions t JOIN Products p ON p.BARCODE = t.BARCODE', con=engine))\n",
    "print(' ')\n",
    "\n",
    "# then check joining the transactions and users data\n",
    "print('Joining transactions and users data: ')\n",
    "print(pd.read_sql('SELECT COUNT(*) FROM transactions t JOIN users u ON u.ID = t.USER_ID', con=engine))"
   ]
  },
  {
   "cell_type": "markdown",
   "metadata": {},
   "source": [
    "It appears that the issue arose when joining the transactions and users datasets. Since they are linked by `USER_ID` and there are no missing `USER_ID` values after data cleaning, my assumption is that there is only a limited overlap of `USER_ID` between the two datasets. This lack of overlap is likely the reason for the drastic reduction in the joined data."
   ]
  },
  {
   "cell_type": "code",
   "execution_count": 40,
   "metadata": {},
   "outputs": [
    {
     "name": "stdout",
     "output_type": "stream",
     "text": [
      "Count of USER_ID in the trannsactions data that are not in the users data: 15952\n"
     ]
    }
   ],
   "source": [
    "TranUser_NotIn_User = [id for id in transactions['USER_ID'].unique() if id not in users['ID'].unique()]\n",
    "print(f'Count of USER_ID in the trannsactions data that are not in the users data: {len(TranUser_NotIn_User)}')"
   ]
  },
  {
   "cell_type": "markdown",
   "metadata": {},
   "source": [
    "Here’s the issue—there are 16,037 unique `USER_ID` values in the transactions data, but only 85 of them (16,037 - 15,952) are recorded in the users data. This low percentage of overlap in `USER_ID` is what caused the drastic reduction in the data after joining. Since the majority of `USER_ID` values in the transactions data have no corresponding record in the users data, it’s reasonable that only 144 rows remain after joining the three datasets."
   ]
  },
  {
   "cell_type": "markdown",
   "metadata": {},
   "source": [
    "## 2-1. What are the top 5 brands by receipts scanned among users 21 and over?\n",
    "The user's age is calculated by subtracting the user's birthdate from the current date, and any transactions where the `BARCODE` or `BRAND` is missing or null will be excluded from the analysis, as they cannot be reliably associated with a product.\n",
    "   \n",
    "My assumptions for this analysis are as follows:\n",
    "1. Since the focus is on the brand, when multiple transactions share the same receipt ID, only those that include the given brand will be considered.\n",
    "2. The analysis focuses on scanned receipts, so regardless of whether a transaction is a normal purchase, return, or free gift, it will still be counted.\n",
    "\n"
   ]
  },
  {
   "cell_type": "code",
   "execution_count": 41,
   "metadata": {},
   "outputs": [
    {
     "data": {
      "text/html": [
       "<div>\n",
       "<style scoped>\n",
       "    .dataframe tbody tr th:only-of-type {\n",
       "        vertical-align: middle;\n",
       "    }\n",
       "\n",
       "    .dataframe tbody tr th {\n",
       "        vertical-align: top;\n",
       "    }\n",
       "\n",
       "    .dataframe thead th {\n",
       "        text-align: right;\n",
       "    }\n",
       "</style>\n",
       "<table border=\"1\" class=\"dataframe\">\n",
       "  <thead>\n",
       "    <tr style=\"text-align: right;\">\n",
       "      <th></th>\n",
       "      <th>BRAND</th>\n",
       "      <th>RECEIPT_COUNT</th>\n",
       "      <th>RANK</th>\n",
       "    </tr>\n",
       "  </thead>\n",
       "  <tbody>\n",
       "    <tr>\n",
       "      <th>0</th>\n",
       "      <td>Nerds Candy</td>\n",
       "      <td>6</td>\n",
       "      <td>1</td>\n",
       "    </tr>\n",
       "    <tr>\n",
       "      <th>1</th>\n",
       "      <td>Dove</td>\n",
       "      <td>6</td>\n",
       "      <td>1</td>\n",
       "    </tr>\n",
       "    <tr>\n",
       "      <th>2</th>\n",
       "      <td>Trident</td>\n",
       "      <td>4</td>\n",
       "      <td>3</td>\n",
       "    </tr>\n",
       "    <tr>\n",
       "      <th>3</th>\n",
       "      <td>Sour Patch Kids</td>\n",
       "      <td>4</td>\n",
       "      <td>3</td>\n",
       "    </tr>\n",
       "    <tr>\n",
       "      <th>4</th>\n",
       "      <td>Meijer</td>\n",
       "      <td>4</td>\n",
       "      <td>3</td>\n",
       "    </tr>\n",
       "    <tr>\n",
       "      <th>5</th>\n",
       "      <td>Hershey'S</td>\n",
       "      <td>4</td>\n",
       "      <td>3</td>\n",
       "    </tr>\n",
       "    <tr>\n",
       "      <th>6</th>\n",
       "      <td>Great Value</td>\n",
       "      <td>4</td>\n",
       "      <td>3</td>\n",
       "    </tr>\n",
       "    <tr>\n",
       "      <th>7</th>\n",
       "      <td>Coca-Cola</td>\n",
       "      <td>4</td>\n",
       "      <td>3</td>\n",
       "    </tr>\n",
       "  </tbody>\n",
       "</table>\n",
       "</div>"
      ],
      "text/plain": [
       "             BRAND  RECEIPT_COUNT  RANK\n",
       "0      Nerds Candy              6     1\n",
       "1             Dove              6     1\n",
       "2          Trident              4     3\n",
       "3  Sour Patch Kids              4     3\n",
       "4           Meijer              4     3\n",
       "5        Hershey'S              4     3\n",
       "6      Great Value              4     3\n",
       "7        Coca-Cola              4     3"
      ]
     },
     "execution_count": 41,
     "metadata": {},
     "output_type": "execute_result"
    }
   ],
   "source": [
    "q1_query = '''\n",
    "WITH RankedBrands AS (\n",
    "    SELECT \n",
    "        BRAND, \n",
    "        COUNT(RECEIPT_ID) AS RECEIPT_COUNT,\n",
    "        RANK() OVER (ORDER BY COUNT(RECEIPT_ID) DESC) AS RANK\n",
    "    FROM JointData\n",
    "    WHERE AGE >= 21 AND BRAND != 'Brand Not Known' --- exclude unknown values\n",
    "    GROUP BY BRAND\n",
    ")\n",
    "SELECT BRAND, RECEIPT_COUNT, RANK\n",
    "FROM RankedBrands\n",
    "WHERE RANK <= 5\n",
    "ORDER BY RANK;\n",
    "'''\n",
    "\n",
    "q1_df = pd.read_sql(q1_query, con=engine)\n",
    "q1_df"
   ]
  },
  {
   "cell_type": "markdown",
   "metadata": {},
   "source": [
    "**ANSWER 2-1**\n",
    "The top-performing brands by receipts scanned among users 21 and over are Nerds Candy and Dove, each with 6 scanned receipts, placing them in the top spot.   \n",
    "Following them, Trident, Sour Patch Kids, Meijer, Hershey's, Great Value, and Coca-Cola all share the second rank with 4 scanned receipts each. Due to ties, I’m providing 8 brands instead of the usual top 5."
   ]
  },
  {
   "cell_type": "markdown",
   "metadata": {},
   "source": [
    "## 2-2. What are the top 5 brands by sales among users that have had their account for at least six months?\n",
    "The account age for each user is calculated by subtracting the account creation date from the current date, with 6 months approximated as 180 days.    \n",
    "Since I assumed `FINAL_SALE` is the column representing the amount spent by the user, I will sum the `FINAL_SALE` values in this analysis, and exclude rows with a `FINAL_QUANTITY` of 0 to filter out returns."
   ]
  },
  {
   "cell_type": "code",
   "execution_count": 42,
   "metadata": {},
   "outputs": [
    {
     "data": {
      "text/html": [
       "<div>\n",
       "<style scoped>\n",
       "    .dataframe tbody tr th:only-of-type {\n",
       "        vertical-align: middle;\n",
       "    }\n",
       "\n",
       "    .dataframe tbody tr th {\n",
       "        vertical-align: top;\n",
       "    }\n",
       "\n",
       "    .dataframe thead th {\n",
       "        text-align: right;\n",
       "    }\n",
       "</style>\n",
       "<table border=\"1\" class=\"dataframe\">\n",
       "  <thead>\n",
       "    <tr style=\"text-align: right;\">\n",
       "      <th></th>\n",
       "      <th>BRAND</th>\n",
       "      <th>SALES</th>\n",
       "      <th>RANK</th>\n",
       "    </tr>\n",
       "  </thead>\n",
       "  <tbody>\n",
       "    <tr>\n",
       "      <th>0</th>\n",
       "      <td>Cvs</td>\n",
       "      <td>72.00</td>\n",
       "      <td>1</td>\n",
       "    </tr>\n",
       "    <tr>\n",
       "      <th>1</th>\n",
       "      <td>Dove</td>\n",
       "      <td>30.91</td>\n",
       "      <td>2</td>\n",
       "    </tr>\n",
       "    <tr>\n",
       "      <th>2</th>\n",
       "      <td>Trident</td>\n",
       "      <td>23.36</td>\n",
       "      <td>3</td>\n",
       "    </tr>\n",
       "    <tr>\n",
       "      <th>3</th>\n",
       "      <td>Coors Light</td>\n",
       "      <td>17.48</td>\n",
       "      <td>4</td>\n",
       "    </tr>\n",
       "    <tr>\n",
       "      <th>4</th>\n",
       "      <td>Tresemmé</td>\n",
       "      <td>14.58</td>\n",
       "      <td>5</td>\n",
       "    </tr>\n",
       "  </tbody>\n",
       "</table>\n",
       "</div>"
      ],
      "text/plain": [
       "         BRAND  SALES  RANK\n",
       "0          Cvs  72.00     1\n",
       "1         Dove  30.91     2\n",
       "2      Trident  23.36     3\n",
       "3  Coors Light  17.48     4\n",
       "4     Tresemmé  14.58     5"
      ]
     },
     "execution_count": 42,
     "metadata": {},
     "output_type": "execute_result"
    }
   ],
   "source": [
    "q2_query = '''\n",
    "WITH RankedBrands AS (\n",
    "    SELECT \n",
    "        BRAND, \n",
    "        SUM(FINAL_SALE) AS SALES,\n",
    "        DENSE_RANK() OVER (ORDER BY SUM(FINAL_SALE) DESC) AS RANK\n",
    "    FROM JointData\n",
    "    WHERE REGISTERED_DAYS >= 180 AND FINAL_QUANTITY > 0 AND BRAND != 'Brand Not Known' --- exclude unknown values\n",
    "    GROUP BY BRAND\n",
    ")\n",
    "SELECT BRAND, SALES, RANK\n",
    "FROM RankedBrands\n",
    "WHERE RANK <= 5\n",
    "ORDER BY RANK;\n",
    "'''\n",
    "\n",
    "q2_df = pd.read_sql(q2_query, con=engine)\n",
    "q2_df"
   ]
  },
  {
   "cell_type": "markdown",
   "metadata": {},
   "source": [
    "**ANSWER 2-2**  Assuming that `FINAL_SALE` accurately reflects sales, the top five brands by sales among users who have been registered for at least six months are CVS, Dove, Trident, Coors Light, and Tresemme."
   ]
  },
  {
   "cell_type": "markdown",
   "metadata": {},
   "source": [
    "## 2-3. What is the percentage of sales in the Health & Wellness category by generation?\n",
    "The user generation has already been categorized based on age, and the Health & Wellness category is found in `CATEGORY_1`."
   ]
  },
  {
   "cell_type": "code",
   "execution_count": 43,
   "metadata": {},
   "outputs": [
    {
     "data": {
      "text/html": [
       "<div>\n",
       "<style scoped>\n",
       "    .dataframe tbody tr th:only-of-type {\n",
       "        vertical-align: middle;\n",
       "    }\n",
       "\n",
       "    .dataframe tbody tr th {\n",
       "        vertical-align: top;\n",
       "    }\n",
       "\n",
       "    .dataframe thead th {\n",
       "        text-align: right;\n",
       "    }\n",
       "</style>\n",
       "<table border=\"1\" class=\"dataframe\">\n",
       "  <thead>\n",
       "    <tr style=\"text-align: right;\">\n",
       "      <th></th>\n",
       "      <th>USER_GENERATION</th>\n",
       "      <th>FINAL_SALE</th>\n",
       "      <th>PERCENTAGE</th>\n",
       "    </tr>\n",
       "  </thead>\n",
       "  <tbody>\n",
       "    <tr>\n",
       "      <th>0</th>\n",
       "      <td>Baby Boomers</td>\n",
       "      <td>86.56</td>\n",
       "      <td>54.3</td>\n",
       "    </tr>\n",
       "    <tr>\n",
       "      <th>1</th>\n",
       "      <td>Gen X</td>\n",
       "      <td>37.81</td>\n",
       "      <td>23.7</td>\n",
       "    </tr>\n",
       "    <tr>\n",
       "      <th>2</th>\n",
       "      <td>Millennials</td>\n",
       "      <td>35.17</td>\n",
       "      <td>22.0</td>\n",
       "    </tr>\n",
       "  </tbody>\n",
       "</table>\n",
       "</div>"
      ],
      "text/plain": [
       "  USER_GENERATION  FINAL_SALE  PERCENTAGE\n",
       "0    Baby Boomers       86.56        54.3\n",
       "1           Gen X       37.81        23.7\n",
       "2     Millennials       35.17        22.0"
      ]
     },
     "execution_count": 43,
     "metadata": {},
     "output_type": "execute_result"
    }
   ],
   "source": [
    "# sum the final sales (exclude returns) for each generation\n",
    "# no need to exclude free items because their final sale is already 0\n",
    "q3_df = joint_df[(joint_df['CATEGORY_1'] == 'Health & Wellness') & (joint_df['FINAL_QUANTITY']>0)].groupby('USER_GENERATION')['FINAL_SALE'].sum().reset_index()\n",
    "q3_df['PERCENTAGE'] = round(q3_df['FINAL_SALE'] / q3_df['FINAL_SALE'].sum() * 100, 1)\n",
    "q3_df"
   ]
  },
  {
   "cell_type": "markdown",
   "metadata": {},
   "source": [
    "**ANSWER 2-3**  Baby Boomers account for 54.3% of sales in the Health & Wellness category, followed by Gen X at 23.7% and Millennials at 22%.\n",
    "\n",
    "The result includes only three generations: Baby Boomers, Gen X, and Millennials. After exploring the data, I found that there are no users from the Greatest Generation or Generation Alpha after merging data. Additionally, there are no purchases from the Health & Wellness category among Silent Generation and Gen Z users."
   ]
  },
  {
   "cell_type": "markdown",
   "metadata": {},
   "source": [
    "## 2-4. Who are Fetch’s power users?\n",
    "\n",
    "I assume that \"power users\" of Fetch refers to individuals who **frequently scan their receipts**, as customer loyalty to the Fetch app is more important than the total quantity or dollar amount spent at stores or the duration of their membership. Additionally, since a single receipt with multiple items results in multiple rows, I will focus on counting the distinct receipt IDs scanned, rather than the number of product barcodes recorded."
   ]
  },
  {
   "cell_type": "code",
   "execution_count": 44,
   "metadata": {},
   "outputs": [
    {
     "data": {
      "text/html": [
       "<div>\n",
       "<style scoped>\n",
       "    .dataframe tbody tr th:only-of-type {\n",
       "        vertical-align: middle;\n",
       "    }\n",
       "\n",
       "    .dataframe tbody tr th {\n",
       "        vertical-align: top;\n",
       "    }\n",
       "\n",
       "    .dataframe thead th {\n",
       "        text-align: right;\n",
       "    }\n",
       "</style>\n",
       "<table border=\"1\" class=\"dataframe\">\n",
       "  <thead>\n",
       "    <tr style=\"text-align: right;\">\n",
       "      <th></th>\n",
       "      <th>USER_ID</th>\n",
       "      <th>STATE</th>\n",
       "      <th>LANGUAGE</th>\n",
       "      <th>GENDER</th>\n",
       "      <th>AGE</th>\n",
       "      <th>RECEIPT_COUNT</th>\n",
       "    </tr>\n",
       "  </thead>\n",
       "  <tbody>\n",
       "    <tr>\n",
       "      <th>0</th>\n",
       "      <td>6528a0a388a3a884364d94dc</td>\n",
       "      <td>WV</td>\n",
       "      <td>en</td>\n",
       "      <td>female</td>\n",
       "      <td>36.0</td>\n",
       "      <td>3</td>\n",
       "    </tr>\n",
       "    <tr>\n",
       "      <th>1</th>\n",
       "      <td>65044dc5fe41d365c2ed7d71</td>\n",
       "      <td>IL</td>\n",
       "      <td>en</td>\n",
       "      <td>female</td>\n",
       "      <td>59.0</td>\n",
       "      <td>2</td>\n",
       "    </tr>\n",
       "    <tr>\n",
       "      <th>2</th>\n",
       "      <td>646bdaa67a342372c857b958</td>\n",
       "      <td>WI</td>\n",
       "      <td>en</td>\n",
       "      <td>female</td>\n",
       "      <td>43.0</td>\n",
       "      <td>2</td>\n",
       "    </tr>\n",
       "    <tr>\n",
       "      <th>3</th>\n",
       "      <td>63c8294d39c79dcbdd5c1e4f</td>\n",
       "      <td>SC</td>\n",
       "      <td>en</td>\n",
       "      <td>female</td>\n",
       "      <td>55.0</td>\n",
       "      <td>2</td>\n",
       "    </tr>\n",
       "    <tr>\n",
       "      <th>4</th>\n",
       "      <td>62ffec490d9dbaff18c0a999</td>\n",
       "      <td>NY</td>\n",
       "      <td>en</td>\n",
       "      <td>female</td>\n",
       "      <td>72.0</td>\n",
       "      <td>2</td>\n",
       "    </tr>\n",
       "    <tr>\n",
       "      <th>5</th>\n",
       "      <td>62c09104baa38d1a1f6c260e</td>\n",
       "      <td>PA</td>\n",
       "      <td>en</td>\n",
       "      <td>female</td>\n",
       "      <td>46.0</td>\n",
       "      <td>2</td>\n",
       "    </tr>\n",
       "    <tr>\n",
       "      <th>6</th>\n",
       "      <td>61fd8c73ac4e5e6b50b4ca01</td>\n",
       "      <td>IL</td>\n",
       "      <td>en</td>\n",
       "      <td>female</td>\n",
       "      <td>43.0</td>\n",
       "      <td>2</td>\n",
       "    </tr>\n",
       "    <tr>\n",
       "      <th>7</th>\n",
       "      <td>610a8541ca1fab5b417b5d33</td>\n",
       "      <td>NY</td>\n",
       "      <td>en</td>\n",
       "      <td>male</td>\n",
       "      <td>47.0</td>\n",
       "      <td>2</td>\n",
       "    </tr>\n",
       "    <tr>\n",
       "      <th>8</th>\n",
       "      <td>5ca54049adfcb4140b54e1bf</td>\n",
       "      <td>NC</td>\n",
       "      <td>en</td>\n",
       "      <td>female</td>\n",
       "      <td>34.0</td>\n",
       "      <td>2</td>\n",
       "    </tr>\n",
       "    <tr>\n",
       "      <th>9</th>\n",
       "      <td>5c6c2998b06c0045a4fddc74</td>\n",
       "      <td>OK</td>\n",
       "      <td>en</td>\n",
       "      <td>female</td>\n",
       "      <td>81.0</td>\n",
       "      <td>2</td>\n",
       "    </tr>\n",
       "  </tbody>\n",
       "</table>\n",
       "</div>"
      ],
      "text/plain": [
       "                    USER_ID STATE LANGUAGE  GENDER   AGE  RECEIPT_COUNT\n",
       "0  6528a0a388a3a884364d94dc    WV       en  female  36.0              3\n",
       "1  65044dc5fe41d365c2ed7d71    IL       en  female  59.0              2\n",
       "2  646bdaa67a342372c857b958    WI       en  female  43.0              2\n",
       "3  63c8294d39c79dcbdd5c1e4f    SC       en  female  55.0              2\n",
       "4  62ffec490d9dbaff18c0a999    NY       en  female  72.0              2\n",
       "5  62c09104baa38d1a1f6c260e    PA       en  female  46.0              2\n",
       "6  61fd8c73ac4e5e6b50b4ca01    IL       en  female  43.0              2\n",
       "7  610a8541ca1fab5b417b5d33    NY       en    male  47.0              2\n",
       "8  5ca54049adfcb4140b54e1bf    NC       en  female  34.0              2\n",
       "9  5c6c2998b06c0045a4fddc74    OK       en  female  81.0              2"
      ]
     },
     "execution_count": 44,
     "metadata": {},
     "output_type": "execute_result"
    }
   ],
   "source": [
    "q4_query = '''\n",
    "SELECT USER_ID, STATE, LANGUAGE, GENDER, AGE, COUNT(DISTINCT RECEIPT_ID) AS RECEIPT_COUNT\n",
    "FROM JointData\n",
    "GROUP BY USER_ID\n",
    "ORDER BY RECEIPT_COUNT DESC\n",
    "LIMIT 10\n",
    "'''\n",
    "\n",
    "q4_df = pd.read_sql(q4_query, con=engine)\n",
    "q4_df"
   ]
  },
  {
   "cell_type": "markdown",
   "metadata": {},
   "source": [
    "**ANSWER 2-4**  Fetch’s power users, those who scan their receipts most frequently, are women aged 35 to 55.\n",
    "\n",
    "The table above shows the top 10 users who scanned the most receipts. It is evident that these power users are all English speakers, primarily female, with ages mostly ranging from 35 to 55. This suggests that Fetch may appeal more to female customers, or that they are simply more active in scanning receipts. The app attracts a diverse age group from young adults to elderlies; however, most users seem to be in their 40s, indicating that middle-aged individuals may be more inclined to engage with the app.\n",
    "\n",
    "It's important to note that, given the limited amount of data after merging, even the top user's receipt count is only 3. This raises questions about the robustness of the analysis and access to a larger dataset would greatly enhance the analysis. While using the transactions* data alone could yield more results (due to a larger number of users before merging with the demographic data), I opted for the *joint* dataset. This choice provides more comprehensive demographic details about users, such as their location, gender, and age, offering a clearer picture of who the power users are.\n",
    "\n",
    "I will provide the results using the *transactions* data below for reference."
   ]
  },
  {
   "cell_type": "code",
   "execution_count": 45,
   "metadata": {},
   "outputs": [
    {
     "data": {
      "text/html": [
       "<div>\n",
       "<style scoped>\n",
       "    .dataframe tbody tr th:only-of-type {\n",
       "        vertical-align: middle;\n",
       "    }\n",
       "\n",
       "    .dataframe tbody tr th {\n",
       "        vertical-align: top;\n",
       "    }\n",
       "\n",
       "    .dataframe thead th {\n",
       "        text-align: right;\n",
       "    }\n",
       "</style>\n",
       "<table border=\"1\" class=\"dataframe\">\n",
       "  <thead>\n",
       "    <tr style=\"text-align: right;\">\n",
       "      <th></th>\n",
       "      <th>USER_ID</th>\n",
       "      <th>RECEIPT_COUNT</th>\n",
       "    </tr>\n",
       "  </thead>\n",
       "  <tbody>\n",
       "    <tr>\n",
       "      <th>0</th>\n",
       "      <td>62925c1be942f00613f7365e</td>\n",
       "      <td>10</td>\n",
       "    </tr>\n",
       "    <tr>\n",
       "      <th>1</th>\n",
       "      <td>64063c8880552327897186a5</td>\n",
       "      <td>9</td>\n",
       "    </tr>\n",
       "    <tr>\n",
       "      <th>2</th>\n",
       "      <td>6327a07aca87b39d76e03864</td>\n",
       "      <td>7</td>\n",
       "    </tr>\n",
       "    <tr>\n",
       "      <th>3</th>\n",
       "      <td>609af341659cf474018831fb</td>\n",
       "      <td>7</td>\n",
       "    </tr>\n",
       "    <tr>\n",
       "      <th>4</th>\n",
       "      <td>6682cbf6465f309038ae1888</td>\n",
       "      <td>6</td>\n",
       "    </tr>\n",
       "    <tr>\n",
       "      <th>5</th>\n",
       "      <td>63b9fdb939c79dcbdd4f8558</td>\n",
       "      <td>6</td>\n",
       "    </tr>\n",
       "    <tr>\n",
       "      <th>6</th>\n",
       "      <td>62b6189d37e6e08b0774ce73</td>\n",
       "      <td>6</td>\n",
       "    </tr>\n",
       "    <tr>\n",
       "      <th>7</th>\n",
       "      <td>624dca0770c07012cd5e6c03</td>\n",
       "      <td>6</td>\n",
       "    </tr>\n",
       "    <tr>\n",
       "      <th>8</th>\n",
       "      <td>605a982894a5c74ba439e5ab</td>\n",
       "      <td>6</td>\n",
       "    </tr>\n",
       "    <tr>\n",
       "      <th>9</th>\n",
       "      <td>5eb59d6be7012d13941af5e2</td>\n",
       "      <td>6</td>\n",
       "    </tr>\n",
       "  </tbody>\n",
       "</table>\n",
       "</div>"
      ],
      "text/plain": [
       "                    USER_ID  RECEIPT_COUNT\n",
       "0  62925c1be942f00613f7365e             10\n",
       "1  64063c8880552327897186a5              9\n",
       "2  6327a07aca87b39d76e03864              7\n",
       "3  609af341659cf474018831fb              7\n",
       "4  6682cbf6465f309038ae1888              6\n",
       "5  63b9fdb939c79dcbdd4f8558              6\n",
       "6  62b6189d37e6e08b0774ce73              6\n",
       "7  624dca0770c07012cd5e6c03              6\n",
       "8  605a982894a5c74ba439e5ab              6\n",
       "9  5eb59d6be7012d13941af5e2              6"
      ]
     },
     "execution_count": 45,
     "metadata": {},
     "output_type": "execute_result"
    }
   ],
   "source": [
    "q4_trans_query = '''\n",
    "SELECT USER_ID, COUNT(DISTINCT RECEIPT_ID) AS RECEIPT_COUNT\n",
    "FROM Transactions\n",
    "GROUP BY USER_ID\n",
    "ORDER BY RECEIPT_COUNT DESC\n",
    "LIMIT 10\n",
    "'''\n",
    "\n",
    "q4_trans_df = pd.read_sql(q4_trans_query, con=engine)\n",
    "q4_trans_df"
   ]
  },
  {
   "cell_type": "markdown",
   "metadata": {},
   "source": [
    "## 2-5. Which is the leading brand in the Dips & Salsa category?\n",
    "To determine the leading brand in the Dips & Salsa category, we can approach the question in three ways:\n",
    "\n",
    "1. Transaction Count: Identifying the brand with the highest number of transactions, indicating it is purchased most frequently.\n",
    "2. Total Quantity: Identifying the brand with the highest total quantity sold, reflecting user preference for purchasing larger amounts.\n",
    "3. Sales Revenue: Identifying the brand that generates the highest sales sum, reflecting its overall revenue earned.\n",
    "\n",
    "Since identifying the leading brand does not require linking the data to user metadata, I will use only the transaction and product data."
   ]
  },
  {
   "cell_type": "code",
   "execution_count": 46,
   "metadata": {},
   "outputs": [
    {
     "name": "stdout",
     "output_type": "stream",
     "text": [
      "CATEGORY_2\n"
     ]
    }
   ],
   "source": [
    "# find which level of category Dips & Salsa is located\n",
    "for cat in ['CATEGORY_1', 'CATEGORY_2', 'CATEGORY_3', 'CATEGORY_4']:\n",
    "    if 'Dips & Salsa' in products[cat].unique():\n",
    "        print(cat)\n",
    "        break"
   ]
  },
  {
   "cell_type": "code",
   "execution_count": 47,
   "metadata": {},
   "outputs": [
    {
     "data": {
      "text/html": [
       "<div>\n",
       "<style scoped>\n",
       "    .dataframe tbody tr th:only-of-type {\n",
       "        vertical-align: middle;\n",
       "    }\n",
       "\n",
       "    .dataframe tbody tr th {\n",
       "        vertical-align: top;\n",
       "    }\n",
       "\n",
       "    .dataframe thead th {\n",
       "        text-align: right;\n",
       "    }\n",
       "</style>\n",
       "<table border=\"1\" class=\"dataframe\">\n",
       "  <thead>\n",
       "    <tr style=\"text-align: right;\">\n",
       "      <th></th>\n",
       "      <th>BRAND</th>\n",
       "      <th>RECEIPT_COUNT</th>\n",
       "    </tr>\n",
       "  </thead>\n",
       "  <tbody>\n",
       "    <tr>\n",
       "      <th>0</th>\n",
       "      <td>Tostitos</td>\n",
       "      <td>56</td>\n",
       "    </tr>\n",
       "  </tbody>\n",
       "</table>\n",
       "</div>"
      ],
      "text/plain": [
       "      BRAND  RECEIPT_COUNT\n",
       "0  Tostitos             56"
      ]
     },
     "execution_count": 47,
     "metadata": {},
     "output_type": "execute_result"
    }
   ],
   "source": [
    "# assumption1: count the number of receipts for each brand and exclude returns\n",
    "q5_as1_query = '''\n",
    "SELECT p.BRAND, COUNT(t.RECEIPT_ID) AS RECEIPT_COUNT\n",
    "FROM Transactions t\n",
    "JOIN Products p\n",
    "ON p.BARCODE = t.BARCODE\n",
    "WHERE p.CATEGORY_2 = 'Dips & Salsa' AND t.FINAL_QUANTITY > 0\n",
    "GROUP BY p.BRAND\n",
    "ORDER BY RECEIPT_COUNT DESC\n",
    "LIMIT 1\n",
    "'''\n",
    "\n",
    "q5_as1_df = pd.read_sql(q5_as1_query, con=engine)\n",
    "q5_as1_df"
   ]
  },
  {
   "cell_type": "code",
   "execution_count": 48,
   "metadata": {},
   "outputs": [
    {
     "data": {
      "text/html": [
       "<div>\n",
       "<style scoped>\n",
       "    .dataframe tbody tr th:only-of-type {\n",
       "        vertical-align: middle;\n",
       "    }\n",
       "\n",
       "    .dataframe tbody tr th {\n",
       "        vertical-align: top;\n",
       "    }\n",
       "\n",
       "    .dataframe thead th {\n",
       "        text-align: right;\n",
       "    }\n",
       "</style>\n",
       "<table border=\"1\" class=\"dataframe\">\n",
       "  <thead>\n",
       "    <tr style=\"text-align: right;\">\n",
       "      <th></th>\n",
       "      <th>BRAND</th>\n",
       "      <th>TOTAL_QUANTITY</th>\n",
       "    </tr>\n",
       "  </thead>\n",
       "  <tbody>\n",
       "    <tr>\n",
       "      <th>0</th>\n",
       "      <td>Tostitos</td>\n",
       "      <td>60.0</td>\n",
       "    </tr>\n",
       "  </tbody>\n",
       "</table>\n",
       "</div>"
      ],
      "text/plain": [
       "      BRAND  TOTAL_QUANTITY\n",
       "0  Tostitos            60.0"
      ]
     },
     "execution_count": 48,
     "metadata": {},
     "output_type": "execute_result"
    }
   ],
   "source": [
    "# assumption2: sum the final quantity for each brand\n",
    "# no need to exclude return as their quantity is already 0\n",
    "q5_as2_query = '''\n",
    "SELECT p.BRAND, SUM(t.FINAL_QUANTITY) AS TOTAL_QUANTITY\n",
    "FROM Transactions t\n",
    "JOIN Products p\n",
    "ON p.BARCODE = t.BARCODE\n",
    "WHERE p.CATEGORY_2 = 'Dips & Salsa'\n",
    "GROUP BY p.BRAND\n",
    "ORDER BY TOTAL_QUANTITY DESC\n",
    "LIMIT 1\n",
    "'''\n",
    "\n",
    "q5_as2_df = pd.read_sql(q5_as2_query, con=engine)\n",
    "q5_as2_df"
   ]
  },
  {
   "cell_type": "code",
   "execution_count": 49,
   "metadata": {},
   "outputs": [
    {
     "data": {
      "text/html": [
       "<div>\n",
       "<style scoped>\n",
       "    .dataframe tbody tr th:only-of-type {\n",
       "        vertical-align: middle;\n",
       "    }\n",
       "\n",
       "    .dataframe tbody tr th {\n",
       "        vertical-align: top;\n",
       "    }\n",
       "\n",
       "    .dataframe thead th {\n",
       "        text-align: right;\n",
       "    }\n",
       "</style>\n",
       "<table border=\"1\" class=\"dataframe\">\n",
       "  <thead>\n",
       "    <tr style=\"text-align: right;\">\n",
       "      <th></th>\n",
       "      <th>BRAND</th>\n",
       "      <th>TOTAL_SALE</th>\n",
       "    </tr>\n",
       "  </thead>\n",
       "  <tbody>\n",
       "    <tr>\n",
       "      <th>0</th>\n",
       "      <td>Tostitos</td>\n",
       "      <td>181.3</td>\n",
       "    </tr>\n",
       "  </tbody>\n",
       "</table>\n",
       "</div>"
      ],
      "text/plain": [
       "      BRAND  TOTAL_SALE\n",
       "0  Tostitos       181.3"
      ]
     },
     "execution_count": 49,
     "metadata": {},
     "output_type": "execute_result"
    }
   ],
   "source": [
    "# assumption3: sum the final sale for each brand and exclude returns\n",
    "q5_as3_query = '''\n",
    "SELECT p.BRAND, SUM(t.FINAL_SALE) AS TOTAL_SALE\n",
    "FROM Transactions t\n",
    "JOIN Products p\n",
    "ON p.BARCODE = t.BARCODE\n",
    "WHERE p.CATEGORY_2 = 'Dips & Salsa' AND t.FINAL_QUANTITY > 0\n",
    "GROUP BY p.BRAND\n",
    "ORDER BY TOTAL_SALE DESC\n",
    "LIMIT 1\n",
    "'''\n",
    "\n",
    "q5_as3_df = pd.read_sql(q5_as3_query, con=engine)\n",
    "q5_as3_df"
   ]
  },
  {
   "cell_type": "markdown",
   "metadata": {},
   "source": [
    "**ANSWER 2-5**  Interestingly, all three approaches consistently indicate that Tostitos is the leading brand in the Dips & Salsa category."
   ]
  },
  {
   "cell_type": "markdown",
   "metadata": {},
   "source": [
    "## 2-6. At what percent has Fetch grown year over year?\n",
    "\n",
    "Regarding Fetch's YoY growth, I will focus on the **number of members joining Fetch** each year. The number of members is the most intuitive way to estimate an app's growth, as it provides a clearer indication of user interest compared to the count of receipts scanned, which can fluctuate due to various factors such as promotional activities or user shopping habbit."
   ]
  },
  {
   "cell_type": "code",
   "execution_count": 50,
   "metadata": {},
   "outputs": [
    {
     "data": {
      "text/html": [
       "<div>\n",
       "<style scoped>\n",
       "    .dataframe tbody tr th:only-of-type {\n",
       "        vertical-align: middle;\n",
       "    }\n",
       "\n",
       "    .dataframe tbody tr th {\n",
       "        vertical-align: top;\n",
       "    }\n",
       "\n",
       "    .dataframe thead th {\n",
       "        text-align: right;\n",
       "    }\n",
       "</style>\n",
       "<table border=\"1\" class=\"dataframe\">\n",
       "  <thead>\n",
       "    <tr style=\"text-align: right;\">\n",
       "      <th></th>\n",
       "      <th>YEAR</th>\n",
       "      <th>CURRENT_USERS</th>\n",
       "      <th>PREVIOUS_USERS</th>\n",
       "      <th>GROWTH_PERCENT</th>\n",
       "    </tr>\n",
       "  </thead>\n",
       "  <tbody>\n",
       "    <tr>\n",
       "      <th>0</th>\n",
       "      <td>2014</td>\n",
       "      <td>30</td>\n",
       "      <td>NaN</td>\n",
       "      <td>NaN</td>\n",
       "    </tr>\n",
       "    <tr>\n",
       "      <th>1</th>\n",
       "      <td>2015</td>\n",
       "      <td>51</td>\n",
       "      <td>30.0</td>\n",
       "      <td>70.00</td>\n",
       "    </tr>\n",
       "    <tr>\n",
       "      <th>2</th>\n",
       "      <td>2016</td>\n",
       "      <td>70</td>\n",
       "      <td>51.0</td>\n",
       "      <td>37.25</td>\n",
       "    </tr>\n",
       "    <tr>\n",
       "      <th>3</th>\n",
       "      <td>2017</td>\n",
       "      <td>644</td>\n",
       "      <td>70.0</td>\n",
       "      <td>820.00</td>\n",
       "    </tr>\n",
       "    <tr>\n",
       "      <th>4</th>\n",
       "      <td>2018</td>\n",
       "      <td>2168</td>\n",
       "      <td>644.0</td>\n",
       "      <td>236.65</td>\n",
       "    </tr>\n",
       "    <tr>\n",
       "      <th>5</th>\n",
       "      <td>2019</td>\n",
       "      <td>7093</td>\n",
       "      <td>2168.0</td>\n",
       "      <td>227.17</td>\n",
       "    </tr>\n",
       "    <tr>\n",
       "      <th>6</th>\n",
       "      <td>2020</td>\n",
       "      <td>16883</td>\n",
       "      <td>7093.0</td>\n",
       "      <td>138.02</td>\n",
       "    </tr>\n",
       "    <tr>\n",
       "      <th>7</th>\n",
       "      <td>2021</td>\n",
       "      <td>19159</td>\n",
       "      <td>16883.0</td>\n",
       "      <td>13.48</td>\n",
       "    </tr>\n",
       "    <tr>\n",
       "      <th>8</th>\n",
       "      <td>2022</td>\n",
       "      <td>26807</td>\n",
       "      <td>19159.0</td>\n",
       "      <td>39.92</td>\n",
       "    </tr>\n",
       "    <tr>\n",
       "      <th>9</th>\n",
       "      <td>2023</td>\n",
       "      <td>15464</td>\n",
       "      <td>26807.0</td>\n",
       "      <td>-42.31</td>\n",
       "    </tr>\n",
       "    <tr>\n",
       "      <th>10</th>\n",
       "      <td>2024</td>\n",
       "      <td>11631</td>\n",
       "      <td>15464.0</td>\n",
       "      <td>-24.79</td>\n",
       "    </tr>\n",
       "  </tbody>\n",
       "</table>\n",
       "</div>"
      ],
      "text/plain": [
       "    YEAR  CURRENT_USERS  PREVIOUS_USERS  GROWTH_PERCENT\n",
       "0   2014             30             NaN             NaN\n",
       "1   2015             51            30.0           70.00\n",
       "2   2016             70            51.0           37.25\n",
       "3   2017            644            70.0          820.00\n",
       "4   2018           2168           644.0          236.65\n",
       "5   2019           7093          2168.0          227.17\n",
       "6   2020          16883          7093.0          138.02\n",
       "7   2021          19159         16883.0           13.48\n",
       "8   2022          26807         19159.0           39.92\n",
       "9   2023          15464         26807.0          -42.31\n",
       "10  2024          11631         15464.0          -24.79"
      ]
     },
     "execution_count": 50,
     "metadata": {},
     "output_type": "execute_result"
    }
   ],
   "source": [
    "q6_query = '''\n",
    "WITH UserGrowth AS (\n",
    "    SELECT \n",
    "        strftime('%Y', CREATED_DATE) AS YEAR, \n",
    "        COUNT(ID) AS NEW_USER_COUNT\n",
    "    FROM Users\n",
    "    GROUP BY YEAR\n",
    ")\n",
    "SELECT \n",
    "    YEAR, \n",
    "    NEW_USER_COUNT AS CURRENT_USERS, \n",
    "    LAG(NEW_USER_COUNT) OVER (ORDER BY YEAR) AS PREVIOUS_USERS,\n",
    "    ROUND((NEW_USER_COUNT - LAG(NEW_USER_COUNT) OVER (ORDER BY YEAR)) * 1.0 / NULLIF(LAG(NEW_USER_COUNT) OVER (ORDER BY YEAR), 0) * 100, 2) AS GROWTH_PERCENT\n",
    "FROM UserGrowth;\n",
    "'''\n",
    "\n",
    "q6_df = pd.read_sql(q6_query, con=engine)\n",
    "q6_df"
   ]
  },
  {
   "cell_type": "markdown",
   "metadata": {},
   "source": [
    "**ANSWER 2-4**  is displayed in the table above.   \n",
    "It’s important to note that the data for 2024 does not cover a full year, as we are still in the middle of 2024. Therefore, the growth percentage for 2024 is inaccurate."
   ]
  },
  {
   "cell_type": "markdown",
   "metadata": {},
   "source": [
    "Below is additional analysis that helped me identify trends and patterns in the data to address the questions."
   ]
  },
  {
   "cell_type": "code",
   "execution_count": 51,
   "metadata": {},
   "outputs": [
    {
     "data": {
      "text/plain": [
       "CATEGORY_1\n",
       "Snacks               98\n",
       "Health & Wellness    34\n",
       "Beverages             6\n",
       "Alcohol               2\n",
       "Dairy                 2\n",
       "Pantry                2\n",
       "Name: RECEIPT_ID, dtype: int64"
      ]
     },
     "execution_count": 51,
     "metadata": {},
     "output_type": "execute_result"
    }
   ],
   "source": [
    "# the most popular category in the joint data\n",
    "joint_df.groupby('CATEGORY_1')['RECEIPT_ID'].count().sort_values(ascending=False)"
   ]
  },
  {
   "cell_type": "code",
   "execution_count": 52,
   "metadata": {},
   "outputs": [
    {
     "data": {
      "text/plain": [
       "STORE_NAME\n",
       "Walmart                   62\n",
       "Family Dollar              8\n",
       "Target                     8\n",
       "Cvs                        6\n",
       "Dollar Tree Stores Inc     6\n",
       "Name: RECEIPT_ID, dtype: int64"
      ]
     },
     "execution_count": 52,
     "metadata": {},
     "output_type": "execute_result"
    }
   ],
   "source": [
    "# the most popular store in the joint data\n",
    "joint_df.groupby('STORE_NAME')['RECEIPT_ID'].count().sort_values(ascending=False).head(5)"
   ]
  },
  {
   "cell_type": "markdown",
   "metadata": {},
   "source": [
    "# 3. An Email to Stakeholders\n",
    "\n",
    "I will draft an email to the business leader to provide a clear and concise update on the analysis conducted after receiving new data last week, highlighting key findings, insights, challenges encountered, and requesting any necessary assistance.\n",
    "\n",
    "Let's say the business leader is Sam."
   ]
  },
  {
   "cell_type": "markdown",
   "metadata": {},
   "source": [
    "Hi Sam, \n",
    "\n",
    "I hope you're doing well!\n",
    "\n",
    "I wanted to share some key findings from the new data I analyzed last week.\n",
    "\n",
    "One notable trend is that **64% of our users are female, and 83% of the transactions were scanned by female** users as well. This suggests that our product is particularly appealing to women. This insight could help inform our business and marketing strategy, either by further targeting female users or focusing on ways to attract more male users. Additionally, while we are seeing steady growth in new users, there are **seasonal fluctuations** in user registration that we should consider when planning ahead.\n",
    "\n",
    "Another interesting observation is that our active users **frequently scan receipts from grocery stores** like Walmart, and the majority of scanned products fall under the **Snacks and Health & Wellness** categories. It would be worth exploring whether this is driven by Fetch’s ongoing promotions around grocery shopping or if it's a reflection of user behavior. A deeper dive into this could provide interesting business insights.\n",
    "\n",
    "Despite the findings, there are some data quality issues that could be addressed to improve the accuracy of our analysis. The biggest challenge is the **lack of overlap across the three datasets**. With only 144 rows contain complete data, it limits the robustness of our analysis. There are also a number of **missing values**, particularly in key columns such as unique identifiers and columns that can link to other data, which restricts our ability to fully connect the datasets to get a comprehensive view. It might also be helpful to standardize the data entry process to avoid ambiguous entries (e.g.“not listed” and “my gender is not listed” are repeated). More complete data would lead to more precise insights in business.\n",
    "\n",
    "Finally, in addition to requesting more data, I’d appreciate some **clarification or documentation regarding specific data points**, particularly the definitions of `FINAL_QUANTITY` and `FINAL_SALE`. If my assumptions during analysis are incorrect, I can adjust accordingly and update you with revised findings. It would also be useful to understand how placeholders or internal labels are handled. A list of these labels would help distinguish between actual brand or manufacturer names and entries that require further cleaning.\n",
    "\n",
    "Please feel free to reach out if you have any questions or would like to schedule a time for a more detailed review of these findings. I'm also happy to share some visualizations with you.\n",
    "\n",
    "Best regards,   \n",
    "Tammy\n"
   ]
  },
  {
   "cell_type": "markdown",
   "metadata": {},
   "source": [
    "# 4. Conclusion\n",
    "\n",
    "In summary, the analysis provided key insights into our user demographics, transaction patterns, and product preferences. Female users, particularly those aged 35-55, are the most active in scanning receipts, with a focus on categories like Snacks and Health & Wellness. Baby Boomers dominate sales in the Health & Wellness category. Well-known brands like CVS, Dove, and Nerds Candy unsurprisingly performed the best across different scenarios. Fetch’s YoY growth fluctuated significantly, with a peak between 2017-2020. These findings offer valuable guidance for shaping targeted business and marketing strategies and product promotions.\n",
    "\n",
    "However, some limitations emerged during the analysis, such as missing data, incomplete records, and assumptions made about certain variables. The lack of overlap between datasets and uncertainty surrounding ambiguous fields restricted the robustness of the insights. Further investigation, with more complete data and clear documentation, will help refine these findings and lead to more specific, actionable insights.\n",
    "\n",
    "Overall, I enjoyed diving into Fetch's data, exploring trends, making assumptions, and overcoming challenges along the way. It was a rewarding experience, and I’m grateful for the opportunity!"
   ]
  },
  {
   "cell_type": "code",
   "execution_count": null,
   "metadata": {},
   "outputs": [],
   "source": []
  }
 ],
 "metadata": {
  "kernelspec": {
   "display_name": "Python 3",
   "language": "python",
   "name": "python3"
  },
  "language_info": {
   "codemirror_mode": {
    "name": "ipython",
    "version": 3
   },
   "file_extension": ".py",
   "mimetype": "text/x-python",
   "name": "python",
   "nbconvert_exporter": "python",
   "pygments_lexer": "ipython3",
   "version": "3.9.13"
  }
 },
 "nbformat": 4,
 "nbformat_minor": 2
}
